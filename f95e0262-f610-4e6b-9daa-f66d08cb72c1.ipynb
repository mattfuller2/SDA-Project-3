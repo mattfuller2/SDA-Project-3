{
 "cells": [
  {
   "cell_type": "markdown",
   "metadata": {},
   "source": [
    "<div style=\"border:solid green 2px; padding: 20px\"> <h1 style=\"color:green; margin-bottom:20px\">Reviewer's comment v1</h1>\n",
    "\n",
    "Hello Matt!\n",
    "\n",
    "I'm happy to review your project today.  🙌\n",
    "\n",
    "You can find my comments under the heading **«Review»**. I will categorize my comments in green, blue or red boxes like this:\n",
    "\n",
    "<div class=\"alert alert-success\">\n",
    "    <b>Success:</b> if everything is done successfully\n",
    "</div>\n",
    "<div class=\"alert alert-warning\">\n",
    "    <b>Remarks:</b> if I can give some recommendations or ways to improve the project\n",
    "</div>\n",
    "<div class=\"alert alert-danger\">\n",
    "    <b>Needs fixing:</b> if the block requires some corrections. Work can't be accepted with the red comments\n",
    "</div>\n",
    "\n",
    "Please don't remove my comments. If you have any questions, don't hesitate to respond to my comments in a different section.\n",
    "<div class=\"alert alert-info\"> <b>Student comments: </div>    "
   ]
  },
  {
   "cell_type": "markdown",
   "metadata": {},
   "source": [
    "<div style=\"border:solid green 2px; padding: 20px\">\n",
    "<b>Reviewer's comment v1</b>\n",
    "    \n",
    "<b>Overall Feedback</b> \n",
    "    \n",
    "Overall, well done! I can see that a lot of effort has been put in. Your project already looks really good, and you've achieved impressive results.\n",
    "\n",
    "However, there are some comments/areas left to fix that will help you to make your project even better (in red boxes with the title - `Reviewer's comment v1`). \n",
    "    \n",
    "And of course, if you have any questions along the way, remember that you can always reach out to your tutor for clarification.\n",
    "</div>"
   ]
  },
  {
   "cell_type": "markdown",
   "metadata": {},
   "source": [
    "<div style=\"border:solid green 2px; padding: 20px\">\n",
    "<b>Reviewer's comment v2:</b>\n",
    "    \n",
    "<b>Overall Feedback</b> \n",
    "\n",
    "Thank you for making changes to your project! Could you please take a look at additional comments: title - `Reviewer's comment v2:`?\n",
    "    \n",
    "And of course, if you have any questions along the way, remember that you can always reach out to your tutor for any clarification.\n",
    "\n",
    "I will wait for you to send me a new version of the project :)\n",
    "</div>"
   ]
  },
  {
   "cell_type": "markdown",
   "metadata": {},
   "source": [
    "<div style=\"border:solid green 2px; padding: 20px\">\n",
    "<b>Reviewer's comment v3:</b>\n",
    "    \n",
    "<b>Overall Feedback</b> \n",
    "\n",
    "Thank you for making changes to your project! Could you please take a look at additional comments: title - `Reviewer's comment v3:`?\n",
    "    \n",
    "And of course, if you have any questions along the way, remember that you can always reach out to your tutor for any clarification.\n",
    "\n",
    "I will wait for you to send me a new version of the project :)\n",
    "</div>"
   ]
  },
  {
   "cell_type": "markdown",
   "metadata": {},
   "source": [
    "<div style=\"border:solid green 2px; padding: 20px\">\n",
    "<b>Reviewer's comment v4:</b>\n",
    "    \n",
    "<b>Overall Feedback</b> \n",
    "    \n",
    "Thank you for going an extra mile and enhancing your project. I indeed really enjoyed reviewing it. There are no issues left, so your project has been accepted. I wish you engaging projects in the upcoming sprints! ☘️\n",
    "    \n",
    "PS: As a final note, I can recommend cool lectures on stat analysis here: https://www.youtube.com/playlist?list=PL2SOU6wwxB0uwwH80KTQ6ht66KWxbzTIo  \n",
    "    \n",
    "Another great self-paced course that covers basic concepts in probability and statistics - Probability and Statistics by Stanford Online or you could check this one [An Introduction to Statistical Learning with Applications in R](https://www.r-bloggers.com/2014/09/in-depth-introduction-to-machine-learning-in-15-hours-of-expert-videos/) 🙌\n",
    "\n",
    "</div>"
   ]
  },
  {
   "cell_type": "markdown",
   "metadata": {},
   "source": [
    "# Which one is a better plan?\n",
    "\n",
    "You work as an analyst for the telecom operator Megaline. The company offers its clients two prepaid plans, Surf and Ultimate. The commercial department wants to know which of the plans brings in more revenue in order to adjust the advertising budget.\n",
    "\n",
    "You are going to carry out a preliminary analysis of the plans based on a relatively small client selection. You'll have the data on 500 Megaline clients: who the clients are, where they're from, which plan they use, and the number of calls they made and text messages they sent in 2018. Your job is to analyze the clients' behavior and determine which prepaid plan brings in more revenue."
   ]
  },
  {
   "cell_type": "markdown",
   "metadata": {},
   "source": [
    "[We've provided you with some commentary to guide your thinking as you complete this project. However, make sure to remove all the bracketed comments before submitting your project.]\n",
    "\n",
    "[Before you dive into analyzing your data, explain for yourself the purpose of the project and actions you plan to take.]\n",
    "\n",
    "[Please bear in mind that studying, amending, and analyzing data is an iterative process. It is normal to return to previous steps and correct/expand them to allow for further steps.]"
   ]
  },
  {
   "cell_type": "markdown",
   "metadata": {},
   "source": [
    "<div class=\"alert alert-block alert-success\">\n",
    "<b>Reviewer's comment v1</b>\n",
    " \n",
    "Great job keeping the additional information about the project goal! Additionally, you could add a short description of the tasks you plan to perform and the available data. This information could be helpful for the notebook reader.\n",
    "\n"
   ]
  },
  {
   "cell_type": "markdown",
   "metadata": {},
   "source": [
    "## Initialization"
   ]
  },
  {
   "cell_type": "markdown",
   "metadata": {},
   "source": [
    "In this project we will be "
   ]
  },
  {
   "cell_type": "code",
   "execution_count": 1,
   "metadata": {},
   "outputs": [],
   "source": [
    "# Loading all the libraries\n",
    "import pandas as pd\n",
    "from matplotlib import pyplot as plt\n",
    "import numpy as np\n",
    "from scipy import stats\n",
    "\n"
   ]
  },
  {
   "cell_type": "markdown",
   "metadata": {},
   "source": [
    "## Load data"
   ]
  },
  {
   "cell_type": "markdown",
   "metadata": {},
   "source": [
    "Here we will load all datasets from a csv file."
   ]
  },
  {
   "cell_type": "code",
   "execution_count": 2,
   "metadata": {},
   "outputs": [],
   "source": [
    "# Load the data files into different DataFrames\n",
    "df_calls = pd.read_csv('/datasets/megaline_calls.csv')\n",
    "df_internet = pd.read_csv('/datasets/megaline_internet.csv')\n",
    "df_messages = pd.read_csv('/datasets/megaline_messages.csv')\n",
    "df_plans = pd.read_csv('/datasets/megaline_plans.csv')\n",
    "df_users = pd.read_csv('/datasets/megaline_users.csv')"
   ]
  },
  {
   "cell_type": "markdown",
   "metadata": {},
   "source": [
    "## Prepare the data"
   ]
  },
  {
   "cell_type": "markdown",
   "metadata": {},
   "source": [
    "## Plans"
   ]
  },
  {
   "cell_type": "code",
   "execution_count": 3,
   "metadata": {},
   "outputs": [
    {
     "name": "stdout",
     "output_type": "stream",
     "text": [
      "<class 'pandas.core.frame.DataFrame'>\n",
      "RangeIndex: 137735 entries, 0 to 137734\n",
      "Data columns (total 4 columns):\n",
      " #   Column     Non-Null Count   Dtype  \n",
      "---  ------     --------------   -----  \n",
      " 0   id         137735 non-null  object \n",
      " 1   user_id    137735 non-null  int64  \n",
      " 2   call_date  137735 non-null  object \n",
      " 3   duration   137735 non-null  float64\n",
      "dtypes: float64(1), int64(1), object(2)\n",
      "memory usage: 4.2+ MB\n",
      "\n",
      "<class 'pandas.core.frame.DataFrame'>\n",
      "RangeIndex: 104825 entries, 0 to 104824\n",
      "Data columns (total 4 columns):\n",
      " #   Column        Non-Null Count   Dtype  \n",
      "---  ------        --------------   -----  \n",
      " 0   id            104825 non-null  object \n",
      " 1   user_id       104825 non-null  int64  \n",
      " 2   session_date  104825 non-null  object \n",
      " 3   mb_used       104825 non-null  float64\n",
      "dtypes: float64(1), int64(1), object(2)\n",
      "memory usage: 3.2+ MB\n",
      "\n",
      "<class 'pandas.core.frame.DataFrame'>\n",
      "RangeIndex: 76051 entries, 0 to 76050\n",
      "Data columns (total 3 columns):\n",
      " #   Column        Non-Null Count  Dtype \n",
      "---  ------        --------------  ----- \n",
      " 0   id            76051 non-null  object\n",
      " 1   user_id       76051 non-null  int64 \n",
      " 2   message_date  76051 non-null  object\n",
      "dtypes: int64(1), object(2)\n",
      "memory usage: 1.7+ MB\n",
      "\n",
      "<class 'pandas.core.frame.DataFrame'>\n",
      "RangeIndex: 2 entries, 0 to 1\n",
      "Data columns (total 8 columns):\n",
      " #   Column                 Non-Null Count  Dtype  \n",
      "---  ------                 --------------  -----  \n",
      " 0   messages_included      2 non-null      int64  \n",
      " 1   mb_per_month_included  2 non-null      int64  \n",
      " 2   minutes_included       2 non-null      int64  \n",
      " 3   usd_monthly_pay        2 non-null      int64  \n",
      " 4   usd_per_gb             2 non-null      int64  \n",
      " 5   usd_per_message        2 non-null      float64\n",
      " 6   usd_per_minute         2 non-null      float64\n",
      " 7   plan_name              2 non-null      object \n",
      "dtypes: float64(2), int64(5), object(1)\n",
      "memory usage: 256.0+ bytes\n",
      "\n",
      "<class 'pandas.core.frame.DataFrame'>\n",
      "RangeIndex: 500 entries, 0 to 499\n",
      "Data columns (total 8 columns):\n",
      " #   Column      Non-Null Count  Dtype \n",
      "---  ------      --------------  ----- \n",
      " 0   user_id     500 non-null    int64 \n",
      " 1   first_name  500 non-null    object\n",
      " 2   last_name   500 non-null    object\n",
      " 3   age         500 non-null    int64 \n",
      " 4   city        500 non-null    object\n",
      " 5   reg_date    500 non-null    object\n",
      " 6   plan        500 non-null    object\n",
      " 7   churn_date  34 non-null     object\n",
      "dtypes: int64(2), object(6)\n",
      "memory usage: 31.4+ KB\n",
      "\n"
     ]
    }
   ],
   "source": [
    "# Print the general/summary information about the plans' DataFrame\n",
    "df_calls.info()\n",
    "print()\n",
    "df_internet.info()\n",
    "print()\n",
    "df_messages.info()\n",
    "print()\n",
    "df_plans.info()\n",
    "print()\n",
    "df_users.info()\n",
    "print()\n",
    "\n"
   ]
  },
  {
   "cell_type": "code",
   "execution_count": 4,
   "metadata": {},
   "outputs": [
    {
     "name": "stdout",
     "output_type": "stream",
     "text": [
      "         id  user_id   call_date  duration\n",
      "0   1000_93     1000  2018-12-27      8.52\n",
      "1  1000_145     1000  2018-12-27     13.66\n",
      "2  1000_247     1000  2018-12-27     14.48\n",
      "3  1000_309     1000  2018-12-28      5.76\n",
      "4  1000_380     1000  2018-12-30      4.22\n",
      "\n",
      "         id  user_id session_date  mb_used\n",
      "0   1000_13     1000   2018-12-29    89.86\n",
      "1  1000_204     1000   2018-12-31     0.00\n",
      "2  1000_379     1000   2018-12-28   660.40\n",
      "3  1000_413     1000   2018-12-26   270.99\n",
      "4  1000_442     1000   2018-12-27   880.22\n",
      "\n",
      "         id  user_id message_date\n",
      "0  1000_125     1000   2018-12-27\n",
      "1  1000_160     1000   2018-12-31\n",
      "2  1000_223     1000   2018-12-31\n",
      "3  1000_251     1000   2018-12-27\n",
      "4  1000_255     1000   2018-12-26\n",
      "\n",
      "   messages_included  mb_per_month_included  minutes_included  \\\n",
      "0                 50                  15360               500   \n",
      "1               1000                  30720              3000   \n",
      "\n",
      "   usd_monthly_pay  usd_per_gb  usd_per_message  usd_per_minute plan_name  \n",
      "0               20          10             0.03            0.03      surf  \n",
      "1               70           7             0.01            0.01  ultimate  \n",
      "\n",
      "   user_id first_name  last_name  age                                   city  \\\n",
      "0     1000   Anamaria      Bauer   45  Atlanta-Sandy Springs-Roswell, GA MSA   \n",
      "1     1001     Mickey  Wilkerson   28        Seattle-Tacoma-Bellevue, WA MSA   \n",
      "2     1002     Carlee    Hoffman   36   Las Vegas-Henderson-Paradise, NV MSA   \n",
      "3     1003   Reynaldo    Jenkins   52                          Tulsa, OK MSA   \n",
      "4     1004    Leonila   Thompson   40        Seattle-Tacoma-Bellevue, WA MSA   \n",
      "\n",
      "     reg_date      plan churn_date  \n",
      "0  2018-12-24  ultimate        NaN  \n",
      "1  2018-08-13      surf        NaN  \n",
      "2  2018-10-21      surf        NaN  \n",
      "3  2018-01-28      surf        NaN  \n",
      "4  2018-05-23      surf        NaN  \n",
      "\n"
     ]
    }
   ],
   "source": [
    "# Print a sample of data for plans\n",
    "print(df_calls.head())\n",
    "print()\n",
    "print(df_internet.head())\n",
    "print()\n",
    "print(df_messages.head())\n",
    "print()\n",
    "print(df_plans.head())\n",
    "print()\n",
    "print(df_users.head())\n",
    "print()\n",
    "\n"
   ]
  },
  {
   "cell_type": "markdown",
   "metadata": {},
   "source": [
    "[Describe what you see and notice in the general information and the printed data sample for the above price of data. Are there any issues (inappropriate data types, missing data etc) that may need further investigation and changes? How that can be fixed?]"
   ]
  },
  {
   "cell_type": "markdown",
   "metadata": {},
   "source": [
    "From the general information, we can see that there are no missing values. They are filled with fillers. User_id in df_users, df_calls, df_internet and df_messages is an integer data type and we know that this is a unique value so it should be treated as an object value. We weill also covert date colums to be consistent through the datasets."
   ]
  },
  {
   "cell_type": "markdown",
   "metadata": {},
   "source": [
    " "
   ]
  },
  {
   "cell_type": "markdown",
   "metadata": {},
   "source": [
    "## Fix data"
   ]
  },
  {
   "cell_type": "code",
   "execution_count": 5,
   "metadata": {},
   "outputs": [],
   "source": [
    "# Convert the 'user_id' column to object type in each DataFrame\n",
    "df_calls['user_id'] = df_calls['user_id'].astype('object')\n",
    "df_internet['user_id'] = df_internet['user_id'].astype('object')\n",
    "df_messages['user_id'] = df_messages['user_id'].astype('object')\n",
    "df_users['user_id'] = df_users['user_id'].astype('object')\n",
    "\n",
    "# Convert date columns if necessary\n",
    "df_calls['call_date'] = pd.to_datetime(df_calls['call_date'])\n",
    "df_internet['session_date'] = pd.to_datetime(df_internet['session_date'])\n",
    "df_messages['message_date'] = pd.to_datetime(df_messages['message_date'])"
   ]
  },
  {
   "cell_type": "markdown",
   "metadata": {},
   "source": [
    "## Enrich data"
   ]
  },
  {
   "cell_type": "markdown",
   "metadata": {},
   "source": [
    "[Add additional factors to the data if you believe they might be useful.]"
   ]
  },
  {
   "cell_type": "code",
   "execution_count": null,
   "metadata": {},
   "outputs": [],
   "source": []
  },
  {
   "cell_type": "markdown",
   "metadata": {},
   "source": [
    "## Users"
   ]
  },
  {
   "cell_type": "code",
   "execution_count": 6,
   "metadata": {},
   "outputs": [
    {
     "name": "stdout",
     "output_type": "stream",
     "text": [
      "<class 'pandas.core.frame.DataFrame'>\n",
      "RangeIndex: 500 entries, 0 to 499\n",
      "Data columns (total 8 columns):\n",
      " #   Column      Non-Null Count  Dtype \n",
      "---  ------      --------------  ----- \n",
      " 0   user_id     500 non-null    object\n",
      " 1   first_name  500 non-null    object\n",
      " 2   last_name   500 non-null    object\n",
      " 3   age         500 non-null    int64 \n",
      " 4   city        500 non-null    object\n",
      " 5   reg_date    500 non-null    object\n",
      " 6   plan        500 non-null    object\n",
      " 7   churn_date  34 non-null     object\n",
      "dtypes: int64(1), object(7)\n",
      "memory usage: 31.4+ KB\n",
      "None\n"
     ]
    }
   ],
   "source": [
    "# Print the general/summary information about the users' DataFrame\n",
    "print(df_users.info())\n"
   ]
  },
  {
   "cell_type": "code",
   "execution_count": 7,
   "metadata": {},
   "outputs": [
    {
     "name": "stdout",
     "output_type": "stream",
     "text": [
      "    user_id first_name  last_name  age  \\\n",
      "373    1373    Lindsey  Dickerson   21   \n",
      "354    1354     Leonel       Dyer   41   \n",
      "84     1084      Wiley   Mckinney   21   \n",
      "50     1050       Jone       Owen   23   \n",
      "341    1341      Kaila    Andrews   28   \n",
      "\n",
      "                                              city    reg_date      plan  \\\n",
      "373    Minneapolis-St. Paul-Bloomington, MN-WI MSA  2018-08-30  ultimate   \n",
      "354      New York-Newark-Jersey City, NY-NJ-PA MSA  2018-08-24  ultimate   \n",
      "84   Miami-Fort Lauderdale-West Palm Beach, FL MSA  2018-06-04      surf   \n",
      "50   Miami-Fort Lauderdale-West Palm Beach, FL MSA  2018-03-20  ultimate   \n",
      "341         Chicago-Naperville-Elgin, IL-IN-WI MSA  2018-06-17      surf   \n",
      "\n",
      "     churn_date  \n",
      "373         NaN  \n",
      "354         NaN  \n",
      "84   2018-11-11  \n",
      "50   2018-10-07  \n",
      "341         NaN  \n"
     ]
    }
   ],
   "source": [
    "# Print a sample of data for users\n",
    "print(df_users.sample(5))\n"
   ]
  },
  {
   "cell_type": "markdown",
   "metadata": {},
   "source": [
    "In the df_users dataframe, we can seet that we have a list of users who have been customers in the past and still are. The rows with 'NaN' under churn_date are customers who are active users and the ones with dates are the dates they stopped using the services."
   ]
  },
  {
   "cell_type": "markdown",
   "metadata": {},
   "source": [
    " "
   ]
  },
  {
   "cell_type": "markdown",
   "metadata": {},
   "source": [
    "### Fix Data"
   ]
  },
  {
   "cell_type": "markdown",
   "metadata": {},
   "source": [
    "[Fix obvious issues with the data given the initial observations.]"
   ]
  },
  {
   "cell_type": "code",
   "execution_count": 8,
   "metadata": {},
   "outputs": [],
   "source": [
    "# Drops duplicate rows\n",
    "df_users = df_users.drop_duplicates()"
   ]
  },
  {
   "cell_type": "markdown",
   "metadata": {},
   "source": [
    "### Enrich Data"
   ]
  },
  {
   "cell_type": "markdown",
   "metadata": {},
   "source": [
    "[Add additional factors to the data if you believe they might be useful.]"
   ]
  },
  {
   "cell_type": "code",
   "execution_count": 9,
   "metadata": {},
   "outputs": [],
   "source": [
    "# Resets the index\n",
    "df_users.reset_index(drop=True, inplace=True)"
   ]
  },
  {
   "cell_type": "markdown",
   "metadata": {},
   "source": [
    "## Calls"
   ]
  },
  {
   "cell_type": "code",
   "execution_count": 10,
   "metadata": {},
   "outputs": [
    {
     "name": "stdout",
     "output_type": "stream",
     "text": [
      "<class 'pandas.core.frame.DataFrame'>\n",
      "RangeIndex: 137735 entries, 0 to 137734\n",
      "Data columns (total 4 columns):\n",
      " #   Column     Non-Null Count   Dtype         \n",
      "---  ------     --------------   -----         \n",
      " 0   id         137735 non-null  object        \n",
      " 1   user_id    137735 non-null  object        \n",
      " 2   call_date  137735 non-null  datetime64[ns]\n",
      " 3   duration   137735 non-null  float64       \n",
      "dtypes: datetime64[ns](1), float64(1), object(2)\n",
      "memory usage: 4.2+ MB\n",
      "None\n"
     ]
    }
   ],
   "source": [
    "# Print the general/summary information about the calls' DataFrame\n",
    "print(df_calls.info())\n"
   ]
  },
  {
   "cell_type": "code",
   "execution_count": 11,
   "metadata": {},
   "outputs": [
    {
     "name": "stdout",
     "output_type": "stream",
     "text": [
      "             id user_id  call_date  duration\n",
      "18706  1071_578    1071 2018-05-26      0.00\n",
      "29995  1113_226    1113 2018-10-29      8.04\n",
      "85218  1313_198    1313 2018-06-20      9.97\n",
      "5063   1022_329    1022 2018-08-27      2.88\n",
      "23295   1085_87    1085 2018-11-28      6.65\n"
     ]
    }
   ],
   "source": [
    "# Print a sample of data for calls\n",
    "print(df_calls.sample(5))\n"
   ]
  },
  {
   "cell_type": "markdown",
   "metadata": {},
   "source": [
    "In the genral information above, we can see that there are no missing values in the data and all the data types are appropriate for their columns."
   ]
  },
  {
   "cell_type": "markdown",
   "metadata": {},
   "source": [
    " "
   ]
  },
  {
   "cell_type": "markdown",
   "metadata": {},
   "source": [
    "### Fix data"
   ]
  },
  {
   "cell_type": "markdown",
   "metadata": {},
   "source": [
    "[Fix obvious issues with the data given the initial observations.]"
   ]
  },
  {
   "cell_type": "code",
   "execution_count": 12,
   "metadata": {},
   "outputs": [],
   "source": [
    "# Drops duplicate rows\n",
    "df_calls = df_calls.drop_duplicates()"
   ]
  },
  {
   "cell_type": "markdown",
   "metadata": {},
   "source": [
    "### Enrich data"
   ]
  },
  {
   "cell_type": "markdown",
   "metadata": {},
   "source": [
    "[Add additional factors to the data if you believe they might be useful.]"
   ]
  },
  {
   "cell_type": "code",
   "execution_count": 13,
   "metadata": {},
   "outputs": [
    {
     "name": "stdout",
     "output_type": "stream",
     "text": [
      "         id user_id  call_date  duration\n",
      "0   1000_93    1000 2018-12-27       9.0\n",
      "1  1000_145    1000 2018-12-27      14.0\n",
      "2  1000_247    1000 2018-12-27      15.0\n",
      "3  1000_309    1000 2018-12-28       6.0\n",
      "4  1000_380    1000 2018-12-30       5.0\n"
     ]
    }
   ],
   "source": [
    "# Resets the index\n",
    "df_calls.reset_index(drop=True, inplace=True)\n",
    "\n",
    "# Rounds all calls up to the next minute\n",
    "df_calls['duration'] = np.ceil(df_calls['duration'])\n",
    "\n",
    "print(df_calls.head())"
   ]
  },
  {
   "cell_type": "markdown",
   "metadata": {},
   "source": [
    "<div class=\"alert alert-danger\">\n",
    "<b>Reviewer's comment v1:</b>\n",
    "    \n",
    "Please note that the telecom operator rounds up all minutes and traffic values.\n",
    "\n",
    "`Note: Megaline rounds seconds up to minutes, and megabytes to gigabytes. For calls, each individual call is rounded up: even if the call lasted just one second, it will be counted as one minute. For web traffic, individual web sessions are not rounded up. Instead, the total for the month is rounded up. If someone uses 1025 megabytes this month, they will be charged for 2 gigabytes.`\n",
    "\n",
    "Can you please add data rounding?"
   ]
  },
  {
   "cell_type": "markdown",
   "metadata": {},
   "source": [
    "<div class=\"alert alert-success\" role=\"alert\">\n",
    "<b>Reviewer's comment v2:</b>\n",
    "\n",
    "Great choice of the function!  "
   ]
  },
  {
   "cell_type": "markdown",
   "metadata": {},
   "source": [
    "## Messages"
   ]
  },
  {
   "cell_type": "code",
   "execution_count": 14,
   "metadata": {},
   "outputs": [
    {
     "name": "stdout",
     "output_type": "stream",
     "text": [
      "<class 'pandas.core.frame.DataFrame'>\n",
      "RangeIndex: 76051 entries, 0 to 76050\n",
      "Data columns (total 3 columns):\n",
      " #   Column        Non-Null Count  Dtype         \n",
      "---  ------        --------------  -----         \n",
      " 0   id            76051 non-null  object        \n",
      " 1   user_id       76051 non-null  object        \n",
      " 2   message_date  76051 non-null  datetime64[ns]\n",
      "dtypes: datetime64[ns](1), object(2)\n",
      "memory usage: 1.7+ MB\n",
      "None\n"
     ]
    }
   ],
   "source": [
    "# Print the general/summary information about the messages' DataFrame\n",
    "print(df_messages.info())\n"
   ]
  },
  {
   "cell_type": "code",
   "execution_count": 15,
   "metadata": {},
   "outputs": [
    {
     "name": "stdout",
     "output_type": "stream",
     "text": [
      "              id user_id message_date\n",
      "16782   1111_287    1111   2018-09-22\n",
      "9172     1067_10    1067   2018-11-28\n",
      "67711   1439_105    1439   2018-08-24\n",
      "58409   1370_113    1370   2018-12-27\n",
      "22159  1132_1790    1132   2018-06-28\n"
     ]
    }
   ],
   "source": [
    "# Print a sample of data for messages\n",
    "print(df_messages.sample(5))\n"
   ]
  },
  {
   "cell_type": "markdown",
   "metadata": {},
   "source": [
    "In the general information above, we can see that the messages dataframe contains 3 columns consisting of the id, user_id, and the message_date. From this I would ask my manager what the difference between the id and user_id column are. You can see that there is a duplicate in user_id, but it is different in the id column."
   ]
  },
  {
   "cell_type": "markdown",
   "metadata": {},
   "source": [
    " "
   ]
  },
  {
   "cell_type": "markdown",
   "metadata": {},
   "source": [
    "### Fix data"
   ]
  },
  {
   "cell_type": "code",
   "execution_count": 16,
   "metadata": {},
   "outputs": [],
   "source": [
    "# Drops duplacate rows\n",
    "df_messages = df_messages.drop_duplicates()"
   ]
  },
  {
   "cell_type": "markdown",
   "metadata": {},
   "source": [
    "### Enrich data"
   ]
  },
  {
   "cell_type": "code",
   "execution_count": 17,
   "metadata": {},
   "outputs": [],
   "source": [
    "# Resets the index\n",
    "df_messages.reset_index(drop=True, inplace=True)"
   ]
  },
  {
   "cell_type": "markdown",
   "metadata": {},
   "source": [
    "## Internet"
   ]
  },
  {
   "cell_type": "code",
   "execution_count": 18,
   "metadata": {},
   "outputs": [
    {
     "name": "stdout",
     "output_type": "stream",
     "text": [
      "<class 'pandas.core.frame.DataFrame'>\n",
      "RangeIndex: 104825 entries, 0 to 104824\n",
      "Data columns (total 4 columns):\n",
      " #   Column        Non-Null Count   Dtype         \n",
      "---  ------        --------------   -----         \n",
      " 0   id            104825 non-null  object        \n",
      " 1   user_id       104825 non-null  object        \n",
      " 2   session_date  104825 non-null  datetime64[ns]\n",
      " 3   mb_used       104825 non-null  float64       \n",
      "dtypes: datetime64[ns](1), float64(1), object(2)\n",
      "memory usage: 3.2+ MB\n",
      "None\n"
     ]
    }
   ],
   "source": [
    "# Print the general/summary information about the internet DataFrame\n",
    "print(df_internet.info())\n"
   ]
  },
  {
   "cell_type": "code",
   "execution_count": 19,
   "metadata": {},
   "outputs": [
    {
     "name": "stdout",
     "output_type": "stream",
     "text": [
      "              id user_id session_date  mb_used\n",
      "55432   1251_243    1251   2018-09-03   604.24\n",
      "3709    1022_120    1022   2018-12-09     0.00\n",
      "39659   1178_439    1178   2018-11-11   131.23\n",
      "88162   1406_479    1406   2018-10-13     0.00\n",
      "100718   1477_33    1477   2018-12-10   525.31\n"
     ]
    }
   ],
   "source": [
    "# Print a sample of data for the internet traffic\n",
    "print(df_internet.sample(5))\n"
   ]
  },
  {
   "cell_type": "markdown",
   "metadata": {},
   "source": [
    "In the above general information, we can see that all 4 columns are in the right data type. We can see that some of the sample values contain 0.0 mb_used, so I would go to my manager and ask them if this is a missing value or if they didn't use any data on the internet and I would ask for how they would interpret that."
   ]
  },
  {
   "cell_type": "markdown",
   "metadata": {},
   "source": [
    " "
   ]
  },
  {
   "cell_type": "markdown",
   "metadata": {},
   "source": [
    "### Fix data"
   ]
  },
  {
   "cell_type": "code",
   "execution_count": 20,
   "metadata": {},
   "outputs": [],
   "source": [
    "# Removes exact duplicates across all columns\n",
    "df_internet = df_internet.drop_duplicates()"
   ]
  },
  {
   "cell_type": "markdown",
   "metadata": {},
   "source": [
    "### Enrich data"
   ]
  },
  {
   "cell_type": "markdown",
   "metadata": {},
   "source": [
    "[Add additional factors to the data if you believe they might be useful.]"
   ]
  },
  {
   "cell_type": "code",
   "execution_count": 21,
   "metadata": {},
   "outputs": [],
   "source": [
    "# Resets the index\n",
    "df_internet.reset_index(drop=True, inplace=True)"
   ]
  },
  {
   "cell_type": "markdown",
   "metadata": {},
   "source": [
    "## Study plan conditions"
   ]
  },
  {
   "cell_type": "markdown",
   "metadata": {},
   "source": [
    "[It is critical to understand how the plans work, how users are charged based on their plan subscription. So, we suggest printing out the plan information to view their conditions once again.]"
   ]
  },
  {
   "cell_type": "code",
   "execution_count": 22,
   "metadata": {},
   "outputs": [
    {
     "name": "stdout",
     "output_type": "stream",
     "text": [
      "   messages_included  mb_per_month_included  minutes_included  \\\n",
      "0                 50                  15360               500   \n",
      "1               1000                  30720              3000   \n",
      "\n",
      "   usd_monthly_pay  usd_per_gb  usd_per_message  usd_per_minute plan_name  \n",
      "0               20          10             0.03            0.03      surf  \n",
      "1               70           7             0.01            0.01  ultimate  \n"
     ]
    }
   ],
   "source": [
    "# Print out the plan conditions and make sure they are clear for you\n",
    "print(df_plans)\n",
    "\n"
   ]
  },
  {
   "cell_type": "markdown",
   "metadata": {},
   "source": [
    "<div class=\"alert alert-success\">\n",
    "<b>Reviewer's comment v1:</b>\n",
    "    \n",
    "Everything is correct here. "
   ]
  },
  {
   "cell_type": "markdown",
   "metadata": {},
   "source": [
    "## Aggregate data per user\n",
    "\n",
    "[Now, as the data is clean, aggregate data per user per period in order to have just one record per user per period. It should ease the further analysis a lot.]"
   ]
  },
  {
   "cell_type": "code",
   "execution_count": 23,
   "metadata": {},
   "outputs": [
    {
     "name": "stdout",
     "output_type": "stream",
     "text": [
      "   user_id    month  num_calls\n",
      "0     1000  2018-12         16\n",
      "1     1001  2018-08         27\n",
      "2     1001  2018-09         49\n",
      "3     1001  2018-10         65\n",
      "4     1001  2018-11         64\n"
     ]
    }
   ],
   "source": [
    "# Calculate the number of calls made by each user per month. Save the result.\n",
    "df_calls['call_date'] = pd.to_datetime(df_calls['call_date'])\n",
    "df_calls['month'] = df_calls['call_date'].dt.to_period('M')\n",
    "\n",
    "# Group by 'user_id' and 'month', then count the number of calls\n",
    "calls_per_month = df_calls.groupby(['user_id', 'month']).size().reset_index(name='num_calls')\n",
    "\n",
    "# Save the result\n",
    "calls_per_month.to_csv('calls_per_month.csv', index=False)\n",
    "\n",
    "# Display the result\n",
    "print(calls_per_month.head())\n"
   ]
  },
  {
   "cell_type": "code",
   "execution_count": 24,
   "metadata": {},
   "outputs": [
    {
     "name": "stdout",
     "output_type": "stream",
     "text": [
      "   user_id    month  total_minutes\n",
      "0     1000  2018-12          124.0\n",
      "1     1001  2018-08          182.0\n",
      "2     1001  2018-09          315.0\n",
      "3     1001  2018-10          393.0\n",
      "4     1001  2018-11          426.0\n"
     ]
    }
   ],
   "source": [
    "# Calculate the amount of minutes spent by each user per month. Save the result.\n",
    "minutes_per_month = df_calls.groupby(['user_id', 'month'])['duration'].sum().reset_index()\n",
    "\n",
    "# Rename columns for clarity\n",
    "minutes_per_month.rename(columns={'duration': 'total_minutes'}, inplace=True)\n",
    "\n",
    "# Display the result\n",
    "print(minutes_per_month.head())\n",
    "\n",
    "# Save the result to a CSV file\n",
    "minutes_per_month.to_csv('minutes_per_month.csv', index=False)"
   ]
  },
  {
   "cell_type": "markdown",
   "metadata": {},
   "source": [
    "<div class=\"alert alert-warning\" role=\"alert\">\n",
    "<b>Reviewer's comment v1:</b>\n",
    "    \n",
    "In pivot_table or groupby it is possible to pass multiple arguments, so here, you can create an aggregated table in one go like this:\n",
    "\n",
    "\n",
    "```\n",
    "# Group by and aggregate\n",
    "result = calls_df.groupby(['user_id', 'month']).agg({'duration': ['count', 'sum']}).reset_index()\n",
    "\n",
    "# Flatten the MultiIndex in columns\n",
    "result.columns = ['_'.join(col).strip() if type(col) is tuple else col for col in result.columns.values]\n",
    "result\n",
    "```"
   ]
  },
  {
   "cell_type": "code",
   "execution_count": 25,
   "metadata": {},
   "outputs": [
    {
     "name": "stdout",
     "output_type": "stream",
     "text": [
      "      user_id    month  total_messages\n",
      "140      1052  2018-12             266\n",
      "1418     1381  2018-10             224\n",
      "1419     1381  2018-11             180\n",
      "1212     1328  2018-12             168\n",
      "485      1132  2018-11             166\n",
      "...       ...      ...             ...\n",
      "434      1123  2018-06               1\n",
      "1015     1263  2018-12               1\n",
      "1772     1484  2018-11               1\n",
      "1014     1263  2018-11               1\n",
      "1505     1407  2018-11               1\n",
      "\n",
      "[1806 rows x 3 columns]\n"
     ]
    }
   ],
   "source": [
    "# Calculate the number of messages sent by each user per month. Save the result.\n",
    "df_messages['message_date'] = pd.to_datetime(df_messages['message_date'])\n",
    "\n",
    "# Extract month and year from 'message_date'\n",
    "df_messages['month'] = df_messages['message_date'].dt.to_period('M')\n",
    "\n",
    "# Calculate the number of messages sent by each user per month\n",
    "messages_per_month = df_messages.groupby(['user_id', 'month']).size().reset_index(name='total_messages')\n",
    "\n",
    "# Sort the 'total_messages' column from greatest to least\n",
    "messages_per_month = messages_per_month.sort_values(by='total_messages', ascending=False)\n",
    "\n",
    "# Display the result\n",
    "print(messages_per_month)\n",
    "\n",
    "# Save the result to a CSV file\n",
    "messages_per_month.to_csv('messages_per_month.csv', index=False)\n"
   ]
  },
  {
   "cell_type": "code",
   "execution_count": 26,
   "metadata": {},
   "outputs": [
    {
     "name": "stdout",
     "output_type": "stream",
     "text": [
      "      user_id    month  total_data_mb\n",
      "1752     1379  2018-12       70931.59\n",
      "569      1121  2018-12       66863.89\n",
      "1359     1292  2018-12       52034.66\n",
      "1355     1292  2018-08       51809.35\n",
      "1126     1240  2018-08       49950.58\n"
     ]
    }
   ],
   "source": [
    "# Calculate the volume of internet traffic used by each user per month. Save the result.\n",
    "df_internet['session_date'] = pd.to_datetime(df_internet['session_date'])\n",
    "\n",
    "# Extract month and year from 'session_date'\n",
    "df_internet['month'] = df_internet['session_date'].dt.to_period('M')\n",
    "\n",
    "# Calculate the volume of internet traffic used by each user per month\n",
    "internet_per_month = df_internet.groupby(['user_id', 'month'])['mb_used'].sum().reset_index(name='total_data_mb')\n",
    "\n",
    "# Sort the 'total_data_mb' column from greatest to least\n",
    "internet_per_month = internet_per_month.sort_values(by='total_data_mb', ascending=False)\n",
    "\n",
    "# Save the result to a CSV file\n",
    "internet_per_month.to_csv('internet_per_month.csv', index=False)\n",
    "\n",
    "# Display the result\n",
    "print(internet_per_month.head())\n"
   ]
  },
  {
   "cell_type": "markdown",
   "metadata": {},
   "source": [
    "[Put the aggregate data together into one DataFrame so that one record in it would represent what an unique user consumed in a given month.]"
   ]
  },
  {
   "cell_type": "code",
   "execution_count": 27,
   "metadata": {},
   "outputs": [
    {
     "name": "stdout",
     "output_type": "stream",
     "text": [
      "      user_id    month  num_calls  total_data_mb  total_messages  \\\n",
      "0        1000  2018-12       16.0        1901.47            11.0   \n",
      "1        1001  2018-08       27.0        6919.15            30.0   \n",
      "2        1001  2018-09       49.0       13314.82            44.0   \n",
      "3        1001  2018-10       65.0       22330.49            53.0   \n",
      "4        1001  2018-11       64.0       18504.30            36.0   \n",
      "...       ...      ...        ...            ...             ...   \n",
      "2288     1361  2018-05        NaN        1519.69             2.0   \n",
      "2289     1311  2018-06        NaN        1498.83             NaN   \n",
      "2290     1121  2018-11        NaN        1236.65             1.0   \n",
      "2291     1108  2018-12        NaN         233.17             NaN   \n",
      "2292     1482  2018-10        NaN            NaN             2.0   \n",
      "\n",
      "      total_minutes  \n",
      "0             124.0  \n",
      "1             182.0  \n",
      "2             315.0  \n",
      "3             393.0  \n",
      "4             426.0  \n",
      "...             ...  \n",
      "2288            NaN  \n",
      "2289            NaN  \n",
      "2290            NaN  \n",
      "2291            NaN  \n",
      "2292            NaN  \n",
      "\n",
      "[2293 rows x 6 columns]\n"
     ]
    }
   ],
   "source": [
    "# Merge the data for calls, minutes, messages, internet based on user_id and month\n",
    "merged_df = calls_per_month \\\n",
    "    .merge(internet_per_month, on=['user_id', 'month'], how='outer') \\\n",
    "    .merge(messages_per_month, on=['user_id', 'month'], how='outer') \\\n",
    "    .merge(minutes_per_month, on=['user_id', 'month'], how='outer')\n",
    "\n",
    "# Display the merged DataFrame\n",
    "print(merged_df)\n",
    "\n"
   ]
  },
  {
   "cell_type": "markdown",
   "metadata": {},
   "source": [
    "<div class=\"alert alert-success\" role=\"alert\">\n",
    "<b>Reviewer's comment v1:</b>\n",
    "\n",
    "Awesome! `how = 'outer'` can be used here to prevent data loss."
   ]
  },
  {
   "cell_type": "markdown",
   "metadata": {},
   "source": [
    "<div class=\"alert alert-danger\" role=\"alert\">\n",
    "<b>Reviewer's comment v1:</b>\n",
    "\n",
    "When calculating the mean of a dataset, it is common to fill missing values (i.e. NaN) with 0. This is because the mean is calculated by summing up all of the values in a dataset and then dividing by the number of values. If there are missing values in the dataset, the sum will not include those values, and the mean will be calculated based on a smaller sample size. This can lead to a biased or misleading result."
   ]
  },
  {
   "cell_type": "code",
   "execution_count": 28,
   "metadata": {},
   "outputs": [
    {
     "name": "stdout",
     "output_type": "stream",
     "text": [
      "  user_id    month  num_calls  total_data_mb  total_messages  total_minutes  \\\n",
      "0    1000  2018-12       16.0        1901.47            11.0          124.0   \n",
      "1    1001  2018-08       27.0        6919.15            30.0          182.0   \n",
      "2    1001  2018-09       49.0       13314.82            44.0          315.0   \n",
      "3    1001  2018-10       65.0       22330.49            53.0          393.0   \n",
      "4    1001  2018-11       64.0       18504.30            36.0          426.0   \n",
      "5    1001  2018-12       56.0       19369.18            44.0          412.0   \n",
      "6    1002  2018-10       11.0        6552.01            15.0           59.0   \n",
      "7    1002  2018-11       55.0       19345.08            32.0          386.0   \n",
      "8    1002  2018-12       47.0       14396.24            41.0          384.0   \n",
      "9    1003  2018-12      149.0       27044.14            50.0         1104.0   \n",
      "\n",
      "  first_name  last_name  age                                   city  \\\n",
      "0   Anamaria      Bauer   45  Atlanta-Sandy Springs-Roswell, GA MSA   \n",
      "1     Mickey  Wilkerson   28        Seattle-Tacoma-Bellevue, WA MSA   \n",
      "2     Mickey  Wilkerson   28        Seattle-Tacoma-Bellevue, WA MSA   \n",
      "3     Mickey  Wilkerson   28        Seattle-Tacoma-Bellevue, WA MSA   \n",
      "4     Mickey  Wilkerson   28        Seattle-Tacoma-Bellevue, WA MSA   \n",
      "5     Mickey  Wilkerson   28        Seattle-Tacoma-Bellevue, WA MSA   \n",
      "6     Carlee    Hoffman   36   Las Vegas-Henderson-Paradise, NV MSA   \n",
      "7     Carlee    Hoffman   36   Las Vegas-Henderson-Paradise, NV MSA   \n",
      "8     Carlee    Hoffman   36   Las Vegas-Henderson-Paradise, NV MSA   \n",
      "9   Reynaldo    Jenkins   52                          Tulsa, OK MSA   \n",
      "\n",
      "     reg_date      plan churn_date  messages_included  mb_per_month_included  \\\n",
      "0  2018-12-24  ultimate        NaN               1000                  30720   \n",
      "1  2018-08-13      surf        NaN                 50                  15360   \n",
      "2  2018-08-13      surf        NaN                 50                  15360   \n",
      "3  2018-08-13      surf        NaN                 50                  15360   \n",
      "4  2018-08-13      surf        NaN                 50                  15360   \n",
      "5  2018-08-13      surf        NaN                 50                  15360   \n",
      "6  2018-10-21      surf        NaN                 50                  15360   \n",
      "7  2018-10-21      surf        NaN                 50                  15360   \n",
      "8  2018-10-21      surf        NaN                 50                  15360   \n",
      "9  2018-01-28      surf        NaN                 50                  15360   \n",
      "\n",
      "   minutes_included  usd_monthly_pay  usd_per_gb  usd_per_message  \\\n",
      "0              3000               70           7             0.01   \n",
      "1               500               20          10             0.03   \n",
      "2               500               20          10             0.03   \n",
      "3               500               20          10             0.03   \n",
      "4               500               20          10             0.03   \n",
      "5               500               20          10             0.03   \n",
      "6               500               20          10             0.03   \n",
      "7               500               20          10             0.03   \n",
      "8               500               20          10             0.03   \n",
      "9               500               20          10             0.03   \n",
      "\n",
      "   usd_per_minute  \n",
      "0            0.01  \n",
      "1            0.03  \n",
      "2            0.03  \n",
      "3            0.03  \n",
      "4            0.03  \n",
      "5            0.03  \n",
      "6            0.03  \n",
      "7            0.03  \n",
      "8            0.03  \n",
      "9            0.03  \n"
     ]
    }
   ],
   "source": [
    "# Add the plan information\n",
    "data = pd.merge(merged_df,df_users,on=['user_id',],how='left')\n",
    "\n",
    "df_plans.rename(columns={'plan_name': 'plan'}, inplace=True)\n",
    "\n",
    "\n",
    "data = pd.merge(data,df_plans, on=['plan',],how='left')\n",
    "\n",
    "print(data.head(10))\n",
    "\n",
    "\n",
    "# Replace missing values with 0 in the specified columns\n",
    "data[['num_calls', 'total_data_mb', 'total_messages', 'total_minutes']] = data[['num_calls', 'total_data_mb', 'total_messages', 'total_minutes']].fillna(0)\n",
    "\n",
    "\n"
   ]
  },
  {
   "cell_type": "markdown",
   "metadata": {},
   "source": [
    "<div class=\"alert alert-danger\" role=\"alert\">\n",
    "<b>Reviewer's comment v1:</b>\n",
    "\n",
    "You could add information about users in the following way: \n",
    "    \n",
    "```\n",
    "data = pd.merge(merged_df,df_users,on=['user_id',],how='left')\n",
    "```"
   ]
  },
  {
   "cell_type": "markdown",
   "metadata": {},
   "source": [
    "<div class=\"alert alert-success\" role=\"alert\">\n",
    "<b>Reviewer's comment v2:</b>\n",
    "\n",
    "Thank you for updating that.   "
   ]
  },
  {
   "cell_type": "markdown",
   "metadata": {},
   "source": [
    "[Calculate the monthly revenue from each user (subtract the free package limit from the total number of calls, text messages, and data; multiply the result by the calling plan value; add the monthly charge depending on the calling plan). N.B. This might not be as trivial as just a couple of lines given the plan conditions! So, it's okay to spend some time on it.]"
   ]
  },
  {
   "cell_type": "code",
   "execution_count": 29,
   "metadata": {},
   "outputs": [
    {
     "name": "stdout",
     "output_type": "stream",
     "text": [
      "     user_id    month  monthly_revenue\n",
      "0       1000  2018-12            70.00\n",
      "1       1001  2018-08            20.00\n",
      "2       1001  2018-09            20.00\n",
      "3       1001  2018-10            90.09\n",
      "4       1001  2018-11            60.00\n",
      "...      ...      ...              ...\n",
      "2288    1361  2018-05            20.00\n",
      "2289    1311  2018-06            70.00\n",
      "2290    1121  2018-11            20.00\n",
      "2291    1108  2018-12            70.00\n",
      "2292    1482  2018-10            70.00\n",
      "\n",
      "[2293 rows x 3 columns]\n",
      "\n",
      "\n",
      "     user_id    month  num_calls  total_data_mb  total_messages  \\\n",
      "0       1000  2018-12       16.0        1901.47            11.0   \n",
      "1       1001  2018-08       27.0        6919.15            30.0   \n",
      "2       1001  2018-09       49.0       13314.82            44.0   \n",
      "3       1001  2018-10       65.0       22330.49            53.0   \n",
      "4       1001  2018-11       64.0       18504.30            36.0   \n",
      "...      ...      ...        ...            ...             ...   \n",
      "2288    1361  2018-05        0.0        1519.69             2.0   \n",
      "2289    1311  2018-06        0.0        1498.83             0.0   \n",
      "2290    1121  2018-11        0.0        1236.65             1.0   \n",
      "2291    1108  2018-12        0.0         233.17             0.0   \n",
      "2292    1482  2018-10        0.0           0.00             2.0   \n",
      "\n",
      "      total_minutes first_name  last_name  age  \\\n",
      "0             124.0   Anamaria      Bauer   45   \n",
      "1             182.0     Mickey  Wilkerson   28   \n",
      "2             315.0     Mickey  Wilkerson   28   \n",
      "3             393.0     Mickey  Wilkerson   28   \n",
      "4             426.0     Mickey  Wilkerson   28   \n",
      "...             ...        ...        ...  ...   \n",
      "2288            0.0    Jacelyn    Hoffman   45   \n",
      "2289            0.0    Cherlyn   Saunders   69   \n",
      "2290            0.0  Kathaleen     Albert   34   \n",
      "2291            0.0   Porfirio       Kane   45   \n",
      "2292            0.0     Armand      Glenn   70   \n",
      "\n",
      "                                               city  ... usd_per_message  \\\n",
      "0             Atlanta-Sandy Springs-Roswell, GA MSA  ...            0.01   \n",
      "1                   Seattle-Tacoma-Bellevue, WA MSA  ...            0.03   \n",
      "2                   Seattle-Tacoma-Bellevue, WA MSA  ...            0.03   \n",
      "3                   Seattle-Tacoma-Bellevue, WA MSA  ...            0.03   \n",
      "4                   Seattle-Tacoma-Bellevue, WA MSA  ...            0.03   \n",
      "...                                             ...  ...             ...   \n",
      "2288                      Birmingham-Hoover, AL MSA  ...            0.03   \n",
      "2289                          Memphis, TN-MS-AR MSA  ...            0.01   \n",
      "2290  Miami-Fort Lauderdale-West Palm Beach, FL MSA  ...            0.03   \n",
      "2291                         Salt Lake City, UT MSA  ...            0.01   \n",
      "2292      New York-Newark-Jersey City, NY-NJ-PA MSA  ...            0.01   \n",
      "\n",
      "     usd_per_minute calls_diff  messages_diff  data_diff  data_diff_gb  \\\n",
      "0              0.01        0.0            0.0       0.00           0.0   \n",
      "1              0.03        0.0            0.0       0.00           0.0   \n",
      "2              0.03        0.0            0.0       0.00           0.0   \n",
      "3              0.03        0.0            3.0    6970.49           7.0   \n",
      "4              0.03        0.0            0.0    3144.30           4.0   \n",
      "...             ...        ...            ...        ...           ...   \n",
      "2288           0.03        0.0            0.0       0.00           0.0   \n",
      "2289           0.01        0.0            0.0       0.00           0.0   \n",
      "2290           0.03        0.0            0.0       0.00           0.0   \n",
      "2291           0.01        0.0            0.0       0.00           0.0   \n",
      "2292           0.01        0.0            0.0       0.00           0.0   \n",
      "\n",
      "      calls_overage_charge  messages_overage_charge  data_overage_charge  \\\n",
      "0                      0.0                     0.00                  0.0   \n",
      "1                      0.0                     0.00                  0.0   \n",
      "2                      0.0                     0.00                  0.0   \n",
      "3                      0.0                     0.09                 70.0   \n",
      "4                      0.0                     0.00                 40.0   \n",
      "...                    ...                      ...                  ...   \n",
      "2288                   0.0                     0.00                  0.0   \n",
      "2289                   0.0                     0.00                  0.0   \n",
      "2290                   0.0                     0.00                  0.0   \n",
      "2291                   0.0                     0.00                  0.0   \n",
      "2292                   0.0                     0.00                  0.0   \n",
      "\n",
      "      monthly_revenue  \n",
      "0               70.00  \n",
      "1               20.00  \n",
      "2               20.00  \n",
      "3               90.09  \n",
      "4               60.00  \n",
      "...               ...  \n",
      "2288            20.00  \n",
      "2289            70.00  \n",
      "2290            20.00  \n",
      "2291            70.00  \n",
      "2292            70.00  \n",
      "\n",
      "[2293 rows x 28 columns]\n"
     ]
    }
   ],
   "source": [
    "# Calculate the monthly revenue for each user\n",
    "\n",
    "# Calculate overages\n",
    "data['calls_diff'] = (data['total_minutes'] - data['minutes_included']).clip(lower=0)\n",
    "data['messages_diff'] = (data['total_messages'] - data['messages_included']).clip(lower=0)\n",
    "data['data_diff'] = (data['total_data_mb'] - data['mb_per_month_included']).clip(lower=0)\n",
    "\n",
    "# Convert data overage from MB to GB and round up\n",
    "data['data_diff_gb'] = np.ceil(data['data_diff'] / 1024)\n",
    "\n",
    "# Calculate charges for the overages\n",
    "data['calls_overage_charge'] = data['calls_diff'] * data['usd_per_minute']\n",
    "data['messages_overage_charge'] = data['messages_diff'] * data['usd_per_message']\n",
    "data['data_overage_charge'] = data['data_diff_gb'] * data['usd_per_gb']\n",
    "\n",
    "# Calculate total monthly revenue\n",
    "data['monthly_revenue'] = data['calls_overage_charge'] + data['messages_overage_charge'] + data['data_overage_charge'] + data['usd_monthly_pay']\n",
    "\n",
    "# Display the final DataFrame with the calculated revenue\n",
    "print(data[['user_id', 'month', 'monthly_revenue']])\n",
    "\n",
    "print()\n",
    "print()\n",
    "print(data)"
   ]
  },
  {
   "cell_type": "markdown",
   "metadata": {},
   "source": [
    "<div class=\"alert alert-danger\" role=\"alert\">\n",
    "<b>Reviewer's comment v1:</b>\n",
    "\n",
    "Unfortunately, I see that the project stops here. Could you please complete the remaining part or let a tutor or me if you have any questions. \n",
    "    \n",
    "Could you please address issues in your notebook first? It's crucial that the notebook is fully executable from start to finish before it undergoes a code review. This ensures that anyone reviewing your work can run each cell in sequence without encountering errors, which can significantly impact the review process."
   ]
  },
  {
   "cell_type": "markdown",
   "metadata": {},
   "source": [
    "<div class=\"alert alert-success\" role=\"alert\">\n",
    "<b>Reviewer's comment v2:</b>\n",
    "\n",
    "Well done! Everything is correct here.\n",
    "\n",
    "Btw it is also possible to make the calculation of revenue a bit different `np.where` - https://numpy.org/doc/stable/reference/generated/numpy.where.html\n",
    "    \n",
    "```\n",
    "np.where ('condition: if exceeding the package limit', 'multiply the difference by the price of additional services', '0')\n",
    "```\n",
    "\n"
   ]
  },
  {
   "cell_type": "markdown",
   "metadata": {},
   "source": [
    "## Study user behaviour"
   ]
  },
  {
   "cell_type": "markdown",
   "metadata": {},
   "source": [
    "[Calculate some useful descriptive statistics for the aggregated and merged data, which typically reveal an overall picture captured by the data. Draw useful plots to help the understanding. Given that the main task is to compare the plans and decide on which one is more profitable, the statistics and the plots should be calculated on a per-plan basis.]\n",
    "\n",
    "[There are relevant hints in the comments for Calls but they are not provided for Messages and Internet though the principle of statistical study is the same for them as for Calls.]"
   ]
  },
  {
   "cell_type": "markdown",
   "metadata": {},
   "source": [
    "### Calls"
   ]
  },
  {
   "cell_type": "code",
   "execution_count": 30,
   "metadata": {},
   "outputs": [
    {
     "name": "stdout",
     "output_type": "stream",
     "text": [
      "        plan    month  call_duration\n",
      "0       surf  2018-01       6.642857\n",
      "1       surf  2018-02       6.814628\n",
      "2       surf  2018-03       7.199957\n",
      "3       surf  2018-04       7.040349\n",
      "4       surf  2018-05       7.182627\n",
      "5       surf  2018-06       7.215501\n",
      "6       surf  2018-07       7.027745\n",
      "7       surf  2018-08       7.127926\n",
      "8       surf  2018-09       7.127642\n",
      "9       surf  2018-10       7.103434\n",
      "10      surf  2018-11       7.237324\n",
      "11      surf  2018-12       7.218351\n",
      "12  ultimate  2018-01       6.201915\n",
      "13  ultimate  2018-02       7.062303\n",
      "14  ultimate  2018-03       6.393757\n",
      "15  ultimate  2018-04       7.215266\n",
      "16  ultimate  2018-05       7.121973\n",
      "17  ultimate  2018-06       7.110516\n",
      "18  ultimate  2018-07       7.324718\n",
      "19  ultimate  2018-08       7.018966\n",
      "20  ultimate  2018-09       7.117788\n",
      "21  ultimate  2018-10       7.091066\n",
      "22  ultimate  2018-11       7.024832\n",
      "23  ultimate  2018-12       7.065425\n"
     ]
    },
    {
     "data": {
      "image/png": "[encoded data removed]",
      "text/plain": [
       "<Figure size 1200x900 with 1 Axes>"
      ]
     },
     "metadata": {},
     "output_type": "display_data"
    }
   ],
   "source": [
    "# Compare average duration of calls per each plan per each distinct month. Plot a bar plat to visualize it.\n",
    "\n",
    "# Ensure that 'call_duration' is present or calculated\n",
    "data['call_duration'] = data['total_minutes'] / data['num_calls']\n",
    "\n",
    "# Replace any infinite values with 0 (in case num_calls was 0)\n",
    "data['call_duration'].replace([np.inf, -np.inf], 0, inplace=True)\n",
    "\n",
    "# Group by 'plan' and 'month' and calculate the mean of call duration\n",
    "average_duration = data.groupby(['plan', 'month'])['call_duration'].mean().reset_index()\n",
    "\n",
    "print(average_duration)\n",
    "\n",
    "# Pivot the DataFrame to have 'month' as the index and 'plan' as columns\n",
    "pivot_table = average_duration.pivot(index='month', columns='plan', values='call_duration')\n",
    "\n",
    "# Set the size of the plot\n",
    "fig, ax = plt.subplots(figsize=(12, 9))\n",
    "\n",
    "# Generate positions for each bar\n",
    "bar_width = 0.2\n",
    "months = np.arange(len(pivot_table.index))  # X locations for the groups\n",
    "plans = pivot_table.columns\n",
    "\n",
    "# Create a bar for each plan\n",
    "for i, plan in enumerate(plans):\n",
    "    ax.bar(months + i * bar_width, pivot_table[plan], bar_width, label=plan)\n",
    "\n",
    "# Add labels, title, and legend\n",
    "ax.set_xlabel('Month')\n",
    "ax.set_ylabel('Average Call Duration (minutes)')\n",
    "ax.set_title('Average Call Duration per Plan per Month')\n",
    "ax.set_xticks(months + bar_width * (len(plans) - 1) / 2)\n",
    "ax.set_xticklabels(pivot_table.index)\n",
    "ax.legend(title='Plan')\n",
    "ax.grid(True)\n",
    "\n",
    "plt.show()"
   ]
  },
  {
   "cell_type": "code",
   "execution_count": 31,
   "metadata": {},
   "outputs": [
    {
     "name": "stdout",
     "output_type": "stream",
     "text": [
      "        plan    month  total_minutes\n",
      "0       surf  2018-01          406.0\n",
      "1       surf  2018-02         2673.0\n",
      "2       surf  2018-03         7590.0\n",
      "3       surf  2018-04        17577.0\n",
      "4       surf  2018-05        30768.0\n",
      "5       surf  2018-06        41836.0\n",
      "6       surf  2018-07        54448.0\n",
      "7       surf  2018-08        66438.0\n",
      "8       surf  2018-09        80360.0\n",
      "9       surf  2018-10       101846.0\n",
      "10      surf  2018-11       119801.0\n",
      "11      surf  2018-12       150680.0\n",
      "12  ultimate  2018-01          774.0\n",
      "13  ultimate  2018-02         2822.0\n",
      "14  ultimate  2018-03         3651.0\n",
      "15  ultimate  2018-04         7074.0\n",
      "16  ultimate  2018-05        11781.0\n",
      "17  ultimate  2018-06        17435.0\n",
      "18  ultimate  2018-07        25197.0\n",
      "19  ultimate  2018-08        29922.0\n",
      "20  ultimate  2018-09        37626.0\n",
      "21  ultimate  2018-10        47778.0\n",
      "22  ultimate  2018-11        56540.0\n",
      "23  ultimate  2018-12        69324.0\n"
     ]
    },
    {
     "data": {
      "image/png": "[encoded data removed]",
      "text/plain": [
       "<Figure size 1200x800 with 1 Axes>"
      ]
     },
     "metadata": {},
     "output_type": "display_data"
    }
   ],
   "source": [
    "# Compare the number of minutes users of each plan require each month. Plot a histogram.\n",
    "\n",
    "# Group by 'plan' and 'month' to sum the total minutes\n",
    "minutes_per_plan = data.groupby(['plan', 'month'])['total_minutes'].sum().reset_index()\n",
    "\n",
    "print(minutes_per_plan)\n",
    "\n",
    "# Plotting\n",
    "plt.figure(figsize=(12, 8))\n",
    "\n",
    "# Extract unique plans and months\n",
    "plans = minutes_per_plan['plan'].unique()\n",
    "months = minutes_per_plan['month'].unique()\n",
    "\n",
    "# Plot histogram for each plan\n",
    "for plan in plans:\n",
    "    plan_data = minutes_per_plan[minutes_per_plan['plan'] == plan]\n",
    "    plt.hist(plan_data['total_minutes'], bins=10, alpha=0.5, label=f'Plan: {plan}')\n",
    "\n",
    "# Add labels, title, and legend\n",
    "plt.xlabel('Total Minutes')\n",
    "plt.ylabel('Frequency')\n",
    "plt.title('Histogram of Total Minutes per Plan per Month')\n",
    "plt.legend(title='Plan')\n",
    "plt.grid(True)\n",
    "\n",
    "plt.show()\n"
   ]
  },
  {
   "cell_type": "markdown",
   "metadata": {},
   "source": [
    "<div class=\"alert alert-warning\">\n",
    "<b>Reviewer's comment v2:</b>\n",
    "    \n",
    "To avoid repetitive code you could utilize functions. "
   ]
  },
  {
   "cell_type": "markdown",
   "metadata": {},
   "source": [
    "[Calculate the mean and the variable of the call duration to reason on whether users on the different plans have different behaviours for their calls.]"
   ]
  },
  {
   "cell_type": "code",
   "execution_count": 32,
   "metadata": {},
   "outputs": [
    {
     "name": "stdout",
     "output_type": "stream",
     "text": [
      "       plan      mean       var\n",
      "0      surf  7.158130  1.227523\n",
      "1  ultimate  7.078557  0.915475\n"
     ]
    }
   ],
   "source": [
    "# Calculate the mean and the variance of the monthly call duration\n",
    "\n",
    "# Group by 'plan' and calculate the mean and variance of call duration\n",
    "call_duration_stats = data.groupby('plan')['call_duration'].agg(['mean', 'var']).reset_index()\n",
    "\n",
    "print(call_duration_stats)\n"
   ]
  },
  {
   "cell_type": "code",
   "execution_count": 33,
   "metadata": {},
   "outputs": [
    {
     "name": "stdout",
     "output_type": "stream",
     "text": [
      "        plan    month  call_duration\n",
      "0       surf  2018-01      13.285714\n",
      "1       surf  2018-02      61.331649\n",
      "2       surf  2018-03     165.599009\n",
      "3       surf  2018-04     352.017469\n",
      "4       surf  2018-05     538.697008\n",
      "5       surf  2018-06     692.688083\n",
      "6       surf  2018-07     843.329457\n",
      "7       surf  2018-08    1133.340225\n",
      "8       surf  2018-09    1361.379565\n",
      "9       surf  2018-10    1647.996655\n",
      "10      surf  2018-11    2004.738752\n",
      "11      surf  2018-12    2244.907035\n",
      "12  ultimate  2018-01      24.807660\n",
      "13  ultimate  2018-02      42.373819\n",
      "14  ultimate  2018-03      76.725079\n",
      "15  ultimate  2018-04     151.520581\n",
      "16  ultimate  2018-05     206.537216\n",
      "17  ultimate  2018-06     319.973214\n",
      "18  ultimate  2018-07     432.158387\n",
      "19  ultimate  2018-08     498.346572\n",
      "20  ultimate  2018-09     612.129751\n",
      "21  ultimate  2018-10     744.561896\n",
      "22  ultimate  2018-11     885.128821\n",
      "23  ultimate  2018-12    1052.748268\n"
     ]
    },
    {
     "data": {
      "image/png": "[encoded data removed]",
      "text/plain": [
       "<Figure size 1000x600 with 1 Axes>"
      ]
     },
     "metadata": {},
     "output_type": "display_data"
    }
   ],
   "source": [
    "# Plot a boxplot to visualize the distribution of the monthly call duration\n",
    "\n",
    "# Group by 'plan' and 'month' to sum the call durations\n",
    "monthly_call_duration = data.groupby(['plan', 'month'])['call_duration'].sum().reset_index()\n",
    "\n",
    "print(monthly_call_duration)\n",
    "\n",
    "# Extract unique plans and months\n",
    "plans = monthly_call_duration['plan'].unique()\n",
    "\n",
    "# Prepare data for the boxplot\n",
    "boxplot_data = [monthly_call_duration[monthly_call_duration['plan'] == plan]['call_duration'] for plan in plans]\n",
    "\n",
    "# Plotting the boxplot\n",
    "plt.figure(figsize=(10, 6))\n",
    "plt.boxplot(boxplot_data, labels=plans)\n",
    "\n",
    "# Add labels, title, and grid\n",
    "plt.xlabel('Plan')\n",
    "plt.ylabel('Total Monthly Call Duration (minutes)')\n",
    "plt.title('Distribution of Monthly Call Duration per Plan')\n",
    "plt.grid(True)\n",
    "\n",
    "plt.show()\n"
   ]
  },
  {
   "cell_type": "markdown",
   "metadata": {},
   "source": [
    "[Formulate conclusions on how the users behave in terms of calling. Is their behaviour different between the plans?]"
   ]
  },
  {
   "cell_type": "markdown",
   "metadata": {},
   "source": [
    "According to the 3 graphs above, you can come to a conclusion that surf plan users use significantly more minutes talking on the phone. "
   ]
  },
  {
   "cell_type": "markdown",
   "metadata": {},
   "source": [
    " "
   ]
  },
  {
   "cell_type": "markdown",
   "metadata": {},
   "source": [
    "### Messages"
   ]
  },
  {
   "cell_type": "code",
   "execution_count": 34,
   "metadata": {},
   "outputs": [
    {
     "name": "stdout",
     "output_type": "stream",
     "text": [
      "        plan    month  total_messages\n",
      "0       surf  2018-01            21.0\n",
      "1       surf  2018-02           108.0\n",
      "2       surf  2018-03           351.0\n",
      "3       surf  2018-04           870.0\n",
      "4       surf  2018-05          1849.0\n",
      "5       surf  2018-06          2454.0\n",
      "6       surf  2018-07          3271.0\n",
      "7       surf  2018-08          4662.0\n",
      "8       surf  2018-09          5968.0\n",
      "9       surf  2018-10          8020.0\n",
      "10      surf  2018-11          9165.0\n",
      "11      surf  2018-12         12275.0\n",
      "12  ultimate  2018-01            62.0\n",
      "13  ultimate  2018-02           151.0\n",
      "14  ultimate  2018-03           243.0\n",
      "15  ultimate  2018-04           463.0\n",
      "16  ultimate  2018-05           931.0\n",
      "17  ultimate  2018-06          1379.0\n",
      "18  ultimate  2018-07          1937.0\n",
      "19  ultimate  2018-08          2732.0\n",
      "20  ultimate  2018-09          3259.0\n",
      "21  ultimate  2018-10          4181.0\n",
      "22  ultimate  2018-11          4903.0\n",
      "23  ultimate  2018-12          6796.0\n"
     ]
    },
    {
     "data": {
      "image/png": "[encoded data removed]",
      "text/plain": [
       "<Figure size 1200x800 with 1 Axes>"
      ]
     },
     "metadata": {},
     "output_type": "display_data"
    }
   ],
   "source": [
    "# Compare the number of messages users of each plan tend to send each month\n",
    "\n",
    "# Ensure 'total_messages' is in the DataFrame and clean any infinite values if necessary\n",
    "data['total_messages'].replace([np.inf, -np.inf], 0, inplace=True)\n",
    "\n",
    "# Group by 'plan' and 'month' and calculate the total number of messages sent\n",
    "messages_per_plan = data.groupby(['plan', 'month'])['total_messages'].sum().reset_index()\n",
    "\n",
    "print(messages_per_plan)\n",
    "\n",
    "# Extract unique plans and months\n",
    "plans = messages_per_plan['plan'].unique()\n",
    "months = messages_per_plan['month'].unique()\n",
    "\n",
    "# Prepare the bar positions\n",
    "bar_width = 0.2\n",
    "x = np.arange(len(months))\n",
    "\n",
    "# Plotting\n",
    "fig, ax = plt.subplots(figsize=(12, 8))\n",
    "\n",
    "# Create a bar for each plan\n",
    "for i, plan in enumerate(plans):\n",
    "    plan_data = messages_per_plan[messages_per_plan['plan'] == plan]\n",
    "    ax.bar(x + i * bar_width, plan_data['total_messages'], bar_width, label=f'Plan: {plan}')\n",
    "\n",
    "# Add labels, title, and legend\n",
    "ax.set_xlabel('Month')\n",
    "ax.set_ylabel('Total Messages')\n",
    "ax.set_title('Total Messages per Plan per Month')\n",
    "ax.set_xticks(x + bar_width * (len(plans) - 1) / 2)\n",
    "ax.set_xticklabels(months)\n",
    "ax.legend(title='Plan')\n",
    "ax.grid(True)\n",
    "\n",
    "plt.show()"
   ]
  },
  {
   "cell_type": "code",
   "execution_count": 35,
   "metadata": {},
   "outputs": [
    {
     "name": "stdout",
     "output_type": "stream",
     "text": [
      "       plan  total_data_mb\n",
      "0      surf    26046179.93\n",
      "1  ultimate    12394583.78\n"
     ]
    },
    {
     "data": {
      "image/png": "[encoded data removed]",
      "text/plain": [
       "<Figure size 1000x600 with 1 Axes>"
      ]
     },
     "metadata": {},
     "output_type": "display_data"
    }
   ],
   "source": [
    "# Compare the amount of internet traffic consumed by users per plan\n",
    "\n",
    "# Ensure 'total_data_mb' is clean and replace infinite values if necessary\n",
    "data['total_data_mb'].replace([np.inf, -np.inf], 0, inplace=True)\n",
    "\n",
    "# Group by 'plan' and calculate the sum of data consumed\n",
    "data_per_plan = data.groupby('plan')['total_data_mb'].sum().reset_index()\n",
    "\n",
    "print(data_per_plan)\n",
    "\n",
    "# Prepare the data for plotting\n",
    "plans = data_per_plan['plan']\n",
    "total_data = data_per_plan['total_data_mb']\n",
    "\n",
    "# Plotting\n",
    "plt.figure(figsize=(10, 6))\n",
    "plt.bar(plans, total_data, color='skyblue')\n",
    "\n",
    "# Add labels, title, and grid\n",
    "plt.xlabel('Plan')\n",
    "plt.ylabel('Total Data Consumed (MB)')\n",
    "plt.title('Total Internet Traffic Consumed per Plan')\n",
    "plt.grid(axis='y', linestyle='--', alpha=0.7)\n",
    "\n",
    "plt.show()\n"
   ]
  },
  {
   "cell_type": "markdown",
   "metadata": {},
   "source": [
    "[Formulate conclusions on how the users behave in terms of messaging. Is their behaviour different between the plans?]"
   ]
  },
  {
   "cell_type": "markdown",
   "metadata": {},
   "source": [
    "According to the graphs above, we can conclude that users using the surf plan message more than users using the ultimate plan."
   ]
  },
  {
   "cell_type": "markdown",
   "metadata": {},
   "source": [
    " "
   ]
  },
  {
   "cell_type": "markdown",
   "metadata": {},
   "source": [
    "### Internet"
   ]
  },
  {
   "cell_type": "code",
   "execution_count": 36,
   "metadata": {},
   "outputs": [
    {
     "name": "stdout",
     "output_type": "stream",
     "text": [
      "        plan    month  total_data_mb\n",
      "0       surf  2018-01        9749.72\n",
      "1       surf  2018-02      109609.59\n",
      "2       surf  2018-03      306945.12\n",
      "3       surf  2018-04      599210.15\n",
      "4       surf  2018-05     1073099.33\n",
      "5       surf  2018-06     1484248.33\n",
      "6       surf  2018-07     2030815.67\n",
      "7       surf  2018-08     2720843.68\n",
      "8       surf  2018-09     3218737.67\n",
      "9       surf  2018-10     4102786.41\n",
      "10      surf  2018-11     4624009.00\n",
      "11      surf  2018-12     5766125.26\n",
      "12  ultimate  2018-01       27672.37\n",
      "13  ultimate  2018-02      119901.66\n",
      "14  ultimate  2018-03      219858.22\n",
      "15  ultimate  2018-04      338554.75\n",
      "16  ultimate  2018-05      482109.99\n",
      "17  ultimate  2018-06      720882.29\n",
      "18  ultimate  2018-07      964339.92\n",
      "19  ultimate  2018-08     1264845.13\n",
      "20  ultimate  2018-09     1459408.78\n",
      "21  ultimate  2018-10     1866930.66\n",
      "22  ultimate  2018-11     2163278.04\n",
      "23  ultimate  2018-12     2766801.97\n"
     ]
    },
    {
     "data": {
      "image/png": "[encoded data removed]",
      "text/plain": [
       "<Figure size 1200x800 with 1 Axes>"
      ]
     },
     "metadata": {},
     "output_type": "display_data"
    }
   ],
   "source": [
    "# Compare the internet traffic for users of each plan each month\n",
    "\n",
    "# Ensure 'total_data_mb' is clean and replace infinite values if necessary\n",
    "data['total_data_mb'].replace([np.inf, -np.inf], 0, inplace=True)\n",
    "\n",
    "# Group by 'plan' and 'month', then calculate the sum of data consumed\n",
    "data_per_plan_month = data.groupby(['plan', 'month'])['total_data_mb'].sum().reset_index()\n",
    "\n",
    "print(data_per_plan_month)\n",
    "\n",
    "# Extract unique plans and months\n",
    "plans = data_per_plan_month['plan'].unique()\n",
    "months = data_per_plan_month['month'].unique()\n",
    "\n",
    "# Prepare the bar positions\n",
    "bar_width = 0.4\n",
    "x = np.arange(len(months))\n",
    "\n",
    "# Plotting\n",
    "fig, ax = plt.subplots(figsize=(12, 8))\n",
    "\n",
    "# Create a bar for each plan\n",
    "for i, plan in enumerate(plans):\n",
    "    plan_data = data_per_plan_month[data_per_plan_month['plan'] == plan]\n",
    "    ax.bar(x + i * bar_width, plan_data['total_data_mb'], bar_width, label=f'Plan: {plan}')\n",
    "\n",
    "# Add labels, title, and legend\n",
    "ax.set_xlabel('Month')\n",
    "ax.set_ylabel('Total Data Consumed (MB)')\n",
    "ax.set_title('Total Internet Traffic Consumed per Plan per Month')\n",
    "ax.set_xticks(x + bar_width * (len(plans) - 1) / 2)\n",
    "ax.set_xticklabels(months)\n",
    "ax.legend(title='Plan')\n",
    "ax.grid(True)\n",
    "\n",
    "plt.show()\n"
   ]
  },
  {
   "cell_type": "markdown",
   "metadata": {},
   "source": [
    "[Formulate conclusions on how the users tend to consume the internet traffic? Is their behaviour different between the plans?]"
   ]
  },
  {
   "cell_type": "markdown",
   "metadata": {},
   "source": [
    " "
   ]
  },
  {
   "cell_type": "markdown",
   "metadata": {},
   "source": [
    "## Revenue"
   ]
  },
  {
   "cell_type": "markdown",
   "metadata": {},
   "source": [
    "[Likewise you have studied the user behaviour, statistically describe the revenue between the plans.]"
   ]
  },
  {
   "cell_type": "code",
   "execution_count": 37,
   "metadata": {},
   "outputs": [
    {
     "name": "stdout",
     "output_type": "stream",
     "text": [
      "       plan  total_revenue\n",
      "0      surf       95491.18\n",
      "1  ultimate       52066.00\n"
     ]
    }
   ],
   "source": [
    "# Compare the revenue for users of each plan each month\n",
    "\n",
    "# Rename the column\n",
    "data.rename(columns={'monthly_revenue': 'total_revenue'}, inplace=True)\n",
    "\n",
    "# Calculate total revenue per plan\n",
    "total_revenue_per_plan = data.groupby('plan')['total_revenue'].sum().reset_index()\n",
    "\n",
    "print(total_revenue_per_plan)\n",
    "\n"
   ]
  },
  {
   "cell_type": "markdown",
   "metadata": {},
   "source": [
    "[Formulate conclusions about how the revenue differs between the plans.]"
   ]
  },
  {
   "cell_type": "markdown",
   "metadata": {},
   "source": [
    "According to the total revenue calculations above, the surf plan generated $43,425.18 more than the ultimate plan. The surf users are using their phones to call, text, and roam the internet more than the ultimate users."
   ]
  },
  {
   "cell_type": "markdown",
   "metadata": {},
   "source": [
    "<div class=\"alert alert-success\">\n",
    "<b>Reviewer's comment v2:</b>\n",
    "    \n",
    "I will write overall thoughts about the data analysis section:\n",
    "- Very nice visualization of the data. It's great that you combined both plans in one graph for comparison and also used different graph types to check the available data.\n",
    "- If you have time and are willing to practice, you can display two charts (a histogram and a boxplot) using a two-column subplot.\n",
    "\n",
    "```\n",
    "    # Create one row with 2 columns\n",
    "\t  fig, axes = plt.subplots(1, 2, figsize=(16, 5))\n",
    "\n",
    "\t  # Create a histogram for the surf plan\n",
    "\t  sns.distplot(... ax=axes[0])\n",
    "\t  # Create a histogram for the second plan\n",
    "\t  sns.distplot(... ax=axes[0])\n",
    "\t\n",
    "\t  # Create a boxplot for both plans\n",
    "\t  sns.boxplot(... ax=axes[1])\n",
    "```"
   ]
  },
  {
   "cell_type": "markdown",
   "metadata": {},
   "source": [
    " "
   ]
  },
  {
   "cell_type": "markdown",
   "metadata": {},
   "source": [
    "## Test statistical hypotheses"
   ]
  },
  {
   "cell_type": "markdown",
   "metadata": {},
   "source": [
    "[Test the hypothesis that the average revenue from users of the Ultimate and Surf calling plans differs.]"
   ]
  },
  {
   "cell_type": "markdown",
   "metadata": {},
   "source": [
    "[Formulate the null and the alternative hypotheses, choose the statistical test, decide on the alpha value.]"
   ]
  },
  {
   "cell_type": "markdown",
   "metadata": {},
   "source": [
    "<div class=\"alert alert-danger\">\n",
    "<b>Reviewer's comment v2:</b>\n",
    "    \n",
    "Сould you please formulate a null hypothesis and an alternative hypothesis for each question before actual testing in the markdown box: \n",
    "    \n",
    "    H0:\n",
    "\n",
    "    H1:\n",
    "   \n",
    "Also add a brief information why this test has been selected. "
   ]
  },
  {
   "cell_type": "markdown",
   "metadata": {},
   "source": [
    "<div class=\"alert alert-danger\" role=\"alert\">\n",
    "<b>Reviewer's comment v3:</b>\n",
    "    \n",
    "Unfortunately, i did not notice any changes here. Let me know if you have questions about this comment. "
   ]
  },
  {
   "cell_type": "code",
   "execution_count": 38,
   "metadata": {},
   "outputs": [
    {
     "name": "stdout",
     "output_type": "stream",
     "text": [
      "T-statistic: -5.568949166552807\n",
      "P-value: 2.862674510698644e-08\n",
      "Reject the null hypothesis. There is a significant difference in monthly revenue between the Surf and Ultimate plans.\n"
     ]
    }
   ],
   "source": [
    "# Test the hypotheses\n",
    "\n",
    "# Replace 'plan' and 'total_revenue' with the actual column names\n",
    "\n",
    "# Separate the monthly revenue data for Surf and Ultimate plans\n",
    "surf_revenue = data[data['plan'] == 'surf']['total_revenue']\n",
    "ultimate_revenue = data[data['plan'] == 'ultimate']['total_revenue']\n",
    "\n",
    "# Perform the two-sample t-test\n",
    "results = stats.ttest_ind(surf_revenue, ultimate_revenue)\n",
    "\n",
    "# Extract the t-statistic and p-value from the test result\n",
    "t_stat = results.statistic\n",
    "p_value = results.pvalue\n",
    "\n",
    "# Output the test statistic and p-value\n",
    "print(f\"T-statistic: {t_stat}\")\n",
    "print(f\"P-value: {p_value}\")\n",
    "\n",
    "# Determine significance level (e.g., 0.05)\n",
    "alpha = 0.05\n",
    "\n",
    "# Decision based on the p-value\n",
    "if p_value < alpha:\n",
    "    print(\"Reject the null hypothesis. There is a significant difference in monthly revenue between the Surf and Ultimate plans.\")\n",
    "else:\n",
    "    print(\"Fail to reject the null hypothesis. There is no significant difference in monthly revenue between the Surf and Ultimate plans.\")"
   ]
  },
  {
   "cell_type": "markdown",
   "metadata": {},
   "source": [
    "<div class=\"alert alert-danger\">\n",
    "<b>Reviewer's comment v2:</b>\n",
    "    \n",
    "As you could see both dataframes are empty. Usually nan value in the p-value indicates that. \n",
    "\n",
    "Could you please check that? "
   ]
  },
  {
   "cell_type": "markdown",
   "metadata": {},
   "source": [
    "[Test the hypothesis that the average revenue from users in the NY-NJ area is different from that of the users from the other regions.]"
   ]
  },
  {
   "cell_type": "markdown",
   "metadata": {},
   "source": [
    "[Formulate the null and the alternative hypotheses, choose the statistical test, decide on the alpha value.]"
   ]
  },
  {
   "cell_type": "code",
   "execution_count": 39,
   "metadata": {},
   "outputs": [
    {
     "data": {
      "text/plain": [
       "Index(['user_id', 'month', 'num_calls', 'total_data_mb', 'total_messages',\n",
       "       'total_minutes', 'first_name', 'last_name', 'age', 'city', 'reg_date',\n",
       "       'plan', 'churn_date', 'messages_included', 'mb_per_month_included',\n",
       "       'minutes_included', 'usd_monthly_pay', 'usd_per_gb', 'usd_per_message',\n",
       "       'usd_per_minute', 'calls_diff', 'messages_diff', 'data_diff',\n",
       "       'data_diff_gb', 'calls_overage_charge', 'messages_overage_charge',\n",
       "       'data_overage_charge', 'total_revenue', 'call_duration'],\n",
       "      dtype='object')"
      ]
     },
     "execution_count": 39,
     "metadata": {},
     "output_type": "execute_result"
    }
   ],
   "source": [
    "data.columns"
   ]
  },
  {
   "cell_type": "code",
   "execution_count": 40,
   "metadata": {},
   "outputs": [
    {
     "name": "stdout",
     "output_type": "stream",
     "text": [
      "T-statistic: -1.5982148295172418\n",
      "P-value: 0.11013307329186486\n",
      "Fail to reject the null hypothesis. There is no significant difference in average revenue between users in the NY-NJ area and other regions.\n"
     ]
    }
   ],
   "source": [
    "# Test the hypotheses\n",
    "\n",
    "# Filter rows where the state is either 'NY' or 'NJ'\n",
    "ny_nj_area = data[data['city'].str.contains('NY|NJ', regex=True)]\n",
    "\n",
    "# Filter rows where the state is not 'NY' or 'NJ'\n",
    "not_ny_nj_area = data[~data['city'].str.contains('NY|NJ', regex=True)]\n",
    "\n",
    "\n",
    "# Separate the revenue data for NY-NJ area and other regions\n",
    "ny_nj_revenue = ny_nj_area['total_revenue']\n",
    "other_regions_revenue = not_ny_nj_area['total_revenue']\n",
    "\n",
    "# Perform the two-sample t-test\n",
    "results = stats.ttest_ind(ny_nj_revenue, other_regions_revenue)\n",
    "\n",
    "# Extract the t-statistic and p-value\n",
    "t_stat = results.statistic\n",
    "p_value = results.pvalue\n",
    "\n",
    "# Output the test statistic and p-value\n",
    "print(f\"T-statistic: {t_stat}\")\n",
    "print(f\"P-value: {p_value}\")\n",
    "\n",
    "# Determine significance level (alpha)\n",
    "alpha = 0.05\n",
    "\n",
    "# Decision based on the p-value\n",
    "if p_value < alpha:\n",
    "    print(\"Reject the null hypothesis. There is a significant difference in average revenue between users in the NY-NJ area and other regions.\")\n",
    "else:\n",
    "    print(\"Fail to reject the null hypothesis. There is no significant difference in average revenue between users in the NY-NJ area and other regions.\")\n",
    "\n"
   ]
  },
  {
   "cell_type": "markdown",
   "metadata": {},
   "source": [
    "<div class=\"alert alert-danger\">\n",
    "<b>Reviewer's comment v2:</b>\n",
    "    \n",
    "Could you please also test second question?"
   ]
  },
  {
   "cell_type": "markdown",
   "metadata": {},
   "source": [
    "<div class=\"alert alert-danger\">\n",
    "<b>Reviewer's comment v3:</b>\n",
    "\n",
    "This error is occurring because the column 'state' you're trying to access does not exist in your DataFrame. You could check it in the following way: `data.columns`"
   ]
  },
  {
   "cell_type": "markdown",
   "metadata": {},
   "source": [
    "<div class=\"alert alert-success\">\n",
    "<b>Reviewer's comment v4:</b>\n",
    "    \n",
    "- Everything is correct here. Hypotheses have been formulated correctly. \n",
    "- Your conclusions based on the results are also correct.\n",
    "- You can also additionally compare the variances of the samples before testing hypotheses in order to understand with which equal_var parameter to use the ttest_ind test method (by default, True). Here you can manually calculate variances, or use Levene's statistic test (https://docs.scipy.org/doc/scipy/reference/generated/scipy.stats.levene.html) or Barlett's test (https: //docs.scipy .org / doc / scipy / reference / generated / scipy.stats.bartlett.html # scipy.stats.bartlett)"
   ]
  },
  {
   "cell_type": "markdown",
   "metadata": {},
   "source": [
    "## General conclusion\n",
    "\n",
    "[List your important conclusions in this final section, make sure they cover all those important decisions (assumptions) that you've made and that led you to the way you processed and analyzed the data.]"
   ]
  },
  {
   "cell_type": "markdown",
   "metadata": {},
   "source": [
    "The final conlusion is that the surf plan generates more revenue than ultimate plan.\n",
    "In the surf plan, the users have a higher average of call duration per user per month, they have significantly more total minutes per plan per month on the phone, significatly more messages per user per month, and double the amount of internet traffic consumed."
   ]
  },
  {
   "cell_type": "markdown",
   "metadata": {},
   "source": [
    "<div class=\"alert alert-danger\" role=\"alert\">\n",
    "<b>Reviewer's comment v2:</b>\n",
    "    \n",
    "You did great research with clean code, cool graphs, and correct intermediate conclusions. However, general conclusions in this case are a mini-presentation of the entire work in front of a business stakeholder. In a real project, this is probably the only thing that a business stakeholder will read. Therefore, it is necessary to indicate detailed comments in a structured way for all the conclusions that you received on each item of the work. It is also worth considering what will be interesting from the business stakeholder's perspective, such as a detailed description of the user for each plan,  who brings more additional revenue, and who brings more in total."
   ]
  },
  {
   "cell_type": "markdown",
   "metadata": {},
   "source": [
    "<div class=\"alert alert-success\" role=\"alert\">\n",
    "<b>Reviewer's comment v3:</b>\n",
    "    \n",
    "Thank you for updating it. "
   ]
  },
  {
   "cell_type": "markdown",
   "metadata": {},
   "source": [
    " "
   ]
  }
 ],
 "metadata": {
  "ExecuteTimeLog": [
   {
    "duration": 828,
    "start_time": "2021-11-16T09:21:11.304Z"
   },
   {
    "duration": 893,
    "start_time": "2021-11-16T09:21:17.728Z"
   },
   {
    "duration": 1150,
    "start_time": "2021-11-16T09:21:29.568Z"
   },
   {
    "duration": 3,
    "start_time": "2021-11-16T09:24:14.495Z"
   },
   {
    "duration": 120,
    "start_time": "2021-11-16T09:24:46.630Z"
   },
   {
    "duration": 3,
    "start_time": "2021-11-16T09:28:27.882Z"
   },
   {
    "duration": 4,
    "start_time": "2021-11-16T09:29:54.281Z"
   },
   {
    "duration": 3,
    "start_time": "2021-11-16T09:30:45.936Z"
   },
   {
    "duration": 4,
    "start_time": "2021-11-16T09:31:06.300Z"
   },
   {
    "duration": 113,
    "start_time": "2021-11-16T09:31:37.208Z"
   },
   {
    "duration": 143,
    "start_time": "2021-11-16T09:31:48.656Z"
   },
   {
    "duration": 98,
    "start_time": "2021-11-16T09:31:55.678Z"
   },
   {
    "duration": 3,
    "start_time": "2021-11-16T09:32:08.535Z"
   },
   {
    "duration": 111,
    "start_time": "2021-11-16T09:32:10.120Z"
   },
   {
    "duration": 3,
    "start_time": "2021-11-16T09:32:15.732Z"
   },
   {
    "duration": 4,
    "start_time": "2021-11-16T09:32:29.423Z"
   },
   {
    "duration": 3,
    "start_time": "2021-11-16T10:03:03.074Z"
   },
   {
    "duration": 3,
    "start_time": "2021-11-16T10:10:01.288Z"
   },
   {
    "duration": 3,
    "start_time": "2021-11-16T10:10:46.923Z"
   },
   {
    "duration": 121,
    "start_time": "2021-11-16T10:37:46.494Z"
   },
   {
    "duration": 125,
    "start_time": "2021-11-16T10:38:20.632Z"
   },
   {
    "duration": 112,
    "start_time": "2021-11-16T10:46:53.001Z"
   },
   {
    "duration": 110,
    "start_time": "2021-11-16T10:48:25.775Z"
   },
   {
    "duration": 3,
    "start_time": "2021-11-16T10:50:18.720Z"
   },
   {
    "duration": 4,
    "start_time": "2021-11-16T10:50:37.649Z"
   },
   {
    "duration": 2,
    "start_time": "2021-11-16T10:50:51.884Z"
   },
   {
    "duration": 3,
    "start_time": "2021-11-16T10:51:56.237Z"
   },
   {
    "duration": 101,
    "start_time": "2021-11-16T10:53:13.791Z"
   },
   {
    "duration": 3,
    "start_time": "2021-11-16T10:55:59.186Z"
   },
   {
    "duration": 3,
    "start_time": "2021-11-16T10:56:10.751Z"
   },
   {
    "duration": 3,
    "start_time": "2021-11-16T10:56:49.038Z"
   },
   {
    "duration": 3,
    "start_time": "2021-11-16T10:56:49.174Z"
   },
   {
    "duration": 4,
    "start_time": "2021-11-16T10:56:49.414Z"
   },
   {
    "duration": 3,
    "start_time": "2021-11-16T10:56:49.680Z"
   },
   {
    "duration": 3,
    "start_time": "2021-11-16T10:56:50.370Z"
   },
   {
    "duration": 114,
    "start_time": "2021-11-16T10:59:34.518Z"
   },
   {
    "duration": 3,
    "start_time": "2021-11-16T11:01:41.201Z"
   },
   {
    "duration": 116,
    "start_time": "2021-11-16T11:01:48.754Z"
   },
   {
    "duration": 3,
    "start_time": "2021-11-16T11:02:16.685Z"
   },
   {
    "duration": 3,
    "start_time": "2021-11-16T11:02:19.479Z"
   },
   {
    "duration": 3,
    "start_time": "2021-11-16T11:02:47.067Z"
   },
   {
    "duration": 3,
    "start_time": "2021-11-16T11:02:49.353Z"
   },
   {
    "duration": 3,
    "start_time": "2021-11-16T11:03:07.835Z"
   },
   {
    "duration": 3,
    "start_time": "2021-11-16T11:03:07.953Z"
   },
   {
    "duration": 112,
    "start_time": "2021-11-16T11:07:52.072Z"
   },
   {
    "duration": 187,
    "start_time": "2021-11-16T11:09:23.468Z"
   },
   {
    "duration": 4,
    "start_time": "2021-11-16T11:10:01.455Z"
   },
   {
    "duration": 3,
    "start_time": "2021-11-16T11:10:05.069Z"
   },
   {
    "duration": 4,
    "start_time": "2021-11-16T11:10:13.376Z"
   },
   {
    "duration": 3,
    "start_time": "2021-11-16T11:10:14.434Z"
   },
   {
    "duration": 3,
    "start_time": "2021-11-16T11:10:22.853Z"
   },
   {
    "duration": 4,
    "start_time": "2021-11-16T11:27:29.279Z"
   },
   {
    "duration": 4,
    "start_time": "2021-11-16T11:29:08.919Z"
   },
   {
    "duration": 118,
    "start_time": "2021-11-16T11:29:46.703Z"
   },
   {
    "duration": 437,
    "start_time": "2021-11-16T11:36:02.181Z"
   },
   {
    "duration": 157,
    "start_time": "2021-11-16T11:36:14.388Z"
   },
   {
    "duration": 207,
    "start_time": "2021-11-16T11:47:15.898Z"
   },
   {
    "duration": 3,
    "start_time": "2021-11-16T11:53:52.092Z"
   },
   {
    "duration": 3,
    "start_time": "2021-11-16T11:53:52.236Z"
   },
   {
    "duration": 3,
    "start_time": "2021-11-16T11:59:12.005Z"
   },
   {
    "duration": 112,
    "start_time": "2021-11-16T12:00:33.446Z"
   },
   {
    "duration": 3,
    "start_time": "2021-11-16T12:02:14.453Z"
   },
   {
    "duration": 3,
    "start_time": "2021-11-16T12:02:39.512Z"
   },
   {
    "duration": 106,
    "start_time": "2021-11-16T12:03:03.460Z"
   },
   {
    "duration": 3,
    "start_time": "2021-11-17T20:37:21.139Z"
   },
   {
    "duration": 3,
    "start_time": "2021-11-17T20:37:22.229Z"
   },
   {
    "duration": 3,
    "start_time": "2021-11-17T20:38:38.806Z"
   },
   {
    "duration": 3,
    "start_time": "2021-11-17T20:38:41.958Z"
   },
   {
    "duration": 3,
    "start_time": "2021-11-17T20:43:46.551Z"
   },
   {
    "duration": 4,
    "start_time": "2021-11-17T20:58:21.835Z"
   },
   {
    "duration": 3,
    "start_time": "2021-11-17T20:59:21.872Z"
   },
   {
    "duration": 4,
    "start_time": "2021-11-17T20:59:45.352Z"
   },
   {
    "duration": 4,
    "start_time": "2021-11-17T20:59:49.646Z"
   },
   {
    "duration": 159,
    "start_time": "2021-11-17T21:02:26.949Z"
   },
   {
    "duration": 3,
    "start_time": "2021-11-17T21:03:53.461Z"
   },
   {
    "duration": 3,
    "start_time": "2021-11-17T21:03:53.694Z"
   },
   {
    "duration": 3,
    "start_time": "2021-11-17T21:05:28.145Z"
   },
   {
    "duration": 116,
    "start_time": "2021-11-17T21:05:57.787Z"
   },
   {
    "duration": 3,
    "start_time": "2021-11-17T21:06:37.993Z"
   },
   {
    "duration": 3,
    "start_time": "2021-11-17T21:06:38.261Z"
   },
   {
    "duration": 3,
    "start_time": "2021-11-17T21:11:54.358Z"
   },
   {
    "duration": 3,
    "start_time": "2021-11-17T21:12:43.846Z"
   },
   {
    "duration": 4,
    "start_time": "2021-11-17T21:13:08.773Z"
   },
   {
    "duration": 3,
    "start_time": "2021-11-17T21:14:44.441Z"
   },
   {
    "duration": 3,
    "start_time": "2021-11-17T21:15:42.059Z"
   },
   {
    "duration": 4,
    "start_time": "2021-11-17T21:15:51.995Z"
   },
   {
    "duration": 3,
    "start_time": "2021-11-17T21:15:53.923Z"
   },
   {
    "duration": 3,
    "start_time": "2021-11-17T21:15:55.282Z"
   },
   {
    "duration": 3,
    "start_time": "2021-11-17T21:16:28.492Z"
   },
   {
    "duration": 3,
    "start_time": "2021-11-17T21:16:32.603Z"
   },
   {
    "duration": 3,
    "start_time": "2021-11-17T21:17:06.941Z"
   },
   {
    "duration": 98,
    "start_time": "2021-11-17T21:18:05.733Z"
   },
   {
    "duration": 4,
    "start_time": "2021-11-17T21:21:35.255Z"
   },
   {
    "duration": 3,
    "start_time": "2021-11-17T21:21:37.804Z"
   },
   {
    "duration": 4,
    "start_time": "2021-11-17T21:23:06.071Z"
   },
   {
    "duration": 3,
    "start_time": "2021-11-17T21:23:24.799Z"
   },
   {
    "duration": 3,
    "start_time": "2021-11-17T21:23:32.591Z"
   },
   {
    "duration": 98,
    "start_time": "2021-11-17T21:28:31.559Z"
   },
   {
    "duration": 3,
    "start_time": "2021-11-17T21:28:45.448Z"
   },
   {
    "duration": 3,
    "start_time": "2021-11-17T21:29:17.303Z"
   },
   {
    "duration": 3,
    "start_time": "2021-11-17T21:29:29.617Z"
   },
   {
    "duration": 3,
    "start_time": "2021-11-17T21:29:32.681Z"
   },
   {
    "duration": 3,
    "start_time": "2021-11-17T21:36:11.474Z"
   },
   {
    "duration": 3,
    "start_time": "2021-11-17T21:36:14.791Z"
   },
   {
    "duration": 3,
    "start_time": "2021-11-17T21:36:53.943Z"
   },
   {
    "duration": 3,
    "start_time": "2021-11-17T21:36:56.165Z"
   },
   {
    "duration": 4,
    "start_time": "2021-11-17T21:37:16.590Z"
   },
   {
    "duration": 3,
    "start_time": "2021-11-17T21:37:22.702Z"
   },
   {
    "duration": 4,
    "start_time": "2021-11-17T21:38:03.479Z"
   },
   {
    "duration": 3,
    "start_time": "2021-11-17T21:38:08.601Z"
   },
   {
    "duration": 3,
    "start_time": "2021-11-17T21:38:12.928Z"
   },
   {
    "duration": 3,
    "start_time": "2021-11-17T21:38:48.896Z"
   },
   {
    "duration": 2,
    "start_time": "2021-11-17T21:38:49.171Z"
   },
   {
    "duration": 4,
    "start_time": "2021-11-17T21:39:57.889Z"
   },
   {
    "duration": 3,
    "start_time": "2021-11-17T21:39:58.057Z"
   },
   {
    "duration": 3,
    "start_time": "2021-11-17T21:41:20.108Z"
   },
   {
    "duration": 3,
    "start_time": "2021-11-17T21:41:20.629Z"
   },
   {
    "duration": 3,
    "start_time": "2021-11-17T21:42:49.136Z"
   },
   {
    "duration": 3,
    "start_time": "2021-11-17T21:43:15.137Z"
   },
   {
    "duration": 4,
    "start_time": "2021-11-17T21:43:16.766Z"
   },
   {
    "duration": 4,
    "start_time": "2021-11-17T21:43:31.711Z"
   },
   {
    "duration": 3,
    "start_time": "2021-11-17T21:43:36.312Z"
   },
   {
    "duration": 4,
    "start_time": "2021-11-17T21:45:08.825Z"
   },
   {
    "duration": 4,
    "start_time": "2021-11-17T21:45:10.119Z"
   },
   {
    "duration": 4,
    "start_time": "2021-11-17T21:45:13.748Z"
   },
   {
    "duration": 3,
    "start_time": "2021-11-17T21:45:22.219Z"
   },
   {
    "duration": 3,
    "start_time": "2021-11-17T21:45:33.412Z"
   },
   {
    "duration": 2,
    "start_time": "2021-11-17T21:46:01.885Z"
   },
   {
    "duration": 3,
    "start_time": "2021-11-17T21:46:03.628Z"
   },
   {
    "duration": 107,
    "start_time": "2021-11-17T21:47:32.512Z"
   },
   {
    "duration": 103,
    "start_time": "2021-11-17T21:50:36.243Z"
   },
   {
    "duration": 3,
    "start_time": "2021-11-18T06:28:31.440Z"
   },
   {
    "duration": 3,
    "start_time": "2021-11-18T06:29:00.168Z"
   },
   {
    "duration": 3,
    "start_time": "2021-11-18T06:31:27.008Z"
   },
   {
    "duration": 2,
    "start_time": "2021-11-18T06:35:34.288Z"
   },
   {
    "duration": 2,
    "start_time": "2021-11-18T06:38:04.527Z"
   },
   {
    "duration": 307,
    "start_time": "2024-08-14T12:32:10.591Z"
   },
   {
    "duration": 4140,
    "start_time": "2024-08-14T12:32:23.652Z"
   },
   {
    "duration": 401,
    "start_time": "2024-08-14T12:32:27.795Z"
   },
   {
    "duration": 265,
    "start_time": "2024-08-14T12:32:36.703Z"
   },
   {
    "duration": 26,
    "start_time": "2024-08-14T12:33:06.738Z"
   },
   {
    "duration": 41,
    "start_time": "2024-08-14T12:33:35.245Z"
   },
   {
    "duration": 72,
    "start_time": "2024-08-14T12:34:12.280Z"
   },
   {
    "duration": 21,
    "start_time": "2024-08-14T12:35:55.109Z"
   },
   {
    "duration": 21,
    "start_time": "2024-08-14T12:44:49.471Z"
   },
   {
    "duration": 69,
    "start_time": "2024-08-14T12:47:11.205Z"
   },
   {
    "duration": 14,
    "start_time": "2024-08-14T12:50:49.081Z"
   },
   {
    "duration": 11,
    "start_time": "2024-08-14T12:51:05.972Z"
   },
   {
    "duration": 9,
    "start_time": "2024-08-14T12:51:09.816Z"
   },
   {
    "duration": 7,
    "start_time": "2024-08-14T12:51:28.924Z"
   },
   {
    "duration": 9,
    "start_time": "2024-08-14T12:51:31.937Z"
   },
   {
    "duration": 6,
    "start_time": "2024-08-14T12:58:05.866Z"
   },
   {
    "duration": 6,
    "start_time": "2024-08-14T12:59:19.773Z"
   },
   {
    "duration": 4,
    "start_time": "2024-08-14T13:00:09.183Z"
   },
   {
    "duration": 25,
    "start_time": "2024-08-14T13:00:42.238Z"
   },
   {
    "duration": 20,
    "start_time": "2024-08-14T13:00:43.318Z"
   },
   {
    "duration": 703,
    "start_time": "2024-08-14T13:02:36.167Z"
   },
   {
    "duration": 7,
    "start_time": "2024-08-14T13:03:08.739Z"
   },
   {
    "duration": 4,
    "start_time": "2024-08-14T13:03:17.970Z"
   },
   {
    "duration": 24,
    "start_time": "2024-08-14T13:03:19.068Z"
   },
   {
    "duration": 11,
    "start_time": "2024-08-14T13:03:19.789Z"
   },
   {
    "duration": 27,
    "start_time": "2024-08-14T13:04:56.491Z"
   },
   {
    "duration": 3,
    "start_time": "2024-08-14T13:05:13.998Z"
   },
   {
    "duration": 14,
    "start_time": "2024-08-14T13:06:53.526Z"
   },
   {
    "duration": 9,
    "start_time": "2024-08-14T13:06:57.063Z"
   },
   {
    "duration": 19,
    "start_time": "2024-08-14T13:06:59.288Z"
   },
   {
    "duration": 3,
    "start_time": "2024-08-14T13:14:37.577Z"
   },
   {
    "duration": 270,
    "start_time": "2024-08-14T13:14:38.453Z"
   },
   {
    "duration": 72,
    "start_time": "2024-08-14T13:14:39.491Z"
   },
   {
    "duration": 20,
    "start_time": "2024-08-14T13:14:40.229Z"
   },
   {
    "duration": 77,
    "start_time": "2024-08-14T13:14:41.718Z"
   },
   {
    "duration": 14,
    "start_time": "2024-08-14T13:14:43.477Z"
   },
   {
    "duration": 10,
    "start_time": "2024-08-14T13:14:44.394Z"
   },
   {
    "duration": 8,
    "start_time": "2024-08-14T13:14:47.272Z"
   },
   {
    "duration": 3,
    "start_time": "2024-08-14T13:14:51.663Z"
   },
   {
    "duration": 26,
    "start_time": "2024-08-14T13:14:53.368Z"
   },
   {
    "duration": 28,
    "start_time": "2024-08-14T13:14:54.096Z"
   },
   {
    "duration": 58,
    "start_time": "2024-08-14T13:15:02.088Z"
   },
   {
    "duration": 3,
    "start_time": "2024-08-14T13:15:03.279Z"
   },
   {
    "duration": 20,
    "start_time": "2024-08-14T13:15:03.968Z"
   },
   {
    "duration": 13,
    "start_time": "2024-08-14T13:15:04.442Z"
   },
   {
    "duration": 8,
    "start_time": "2024-08-14T13:16:05.419Z"
   },
   {
    "duration": 3,
    "start_time": "2024-08-14T13:16:20.473Z"
   },
   {
    "duration": 23,
    "start_time": "2024-08-14T13:16:39.329Z"
   },
   {
    "duration": 17,
    "start_time": "2024-08-14T13:16:55.099Z"
   },
   {
    "duration": 62,
    "start_time": "2024-08-14T13:21:07.235Z"
   },
   {
    "duration": 3,
    "start_time": "2024-08-14T13:22:00.483Z"
   },
   {
    "duration": 7,
    "start_time": "2024-08-14T13:22:37.679Z"
   },
   {
    "duration": 68,
    "start_time": "2024-08-14T13:27:26.992Z"
   },
   {
    "duration": 153,
    "start_time": "2024-08-14T13:29:41.435Z"
   },
   {
    "duration": 88,
    "start_time": "2024-08-14T13:32:13.032Z"
   },
   {
    "duration": 92,
    "start_time": "2024-08-14T13:34:05.713Z"
   },
   {
    "duration": 87,
    "start_time": "2024-08-14T13:34:13.877Z"
   },
   {
    "duration": 55,
    "start_time": "2024-08-14T13:35:41.379Z"
   },
   {
    "duration": 61,
    "start_time": "2024-08-14T13:35:54.545Z"
   },
   {
    "duration": 88,
    "start_time": "2024-08-14T13:36:18.245Z"
   },
   {
    "duration": 65,
    "start_time": "2024-08-14T13:38:43.371Z"
   },
   {
    "duration": 70,
    "start_time": "2024-08-14T13:40:27.627Z"
   },
   {
    "duration": 74,
    "start_time": "2024-08-14T13:40:36.571Z"
   },
   {
    "duration": 147,
    "start_time": "2024-08-14T13:42:31.488Z"
   },
   {
    "duration": 80,
    "start_time": "2024-08-14T13:43:30.418Z"
   },
   {
    "duration": 90,
    "start_time": "2024-08-14T13:44:36.925Z"
   },
   {
    "duration": 31,
    "start_time": "2024-08-14T13:45:38.827Z"
   },
   {
    "duration": 29,
    "start_time": "2024-08-14T13:46:37.372Z"
   },
   {
    "duration": 31,
    "start_time": "2024-08-14T13:48:05.133Z"
   },
   {
    "duration": 299,
    "start_time": "2024-08-14T13:48:34.264Z"
   },
   {
    "duration": 3,
    "start_time": "2024-08-14T13:49:34.978Z"
   },
   {
    "duration": 780,
    "start_time": "2024-08-14T13:51:58.386Z"
   },
   {
    "duration": 3,
    "start_time": "2024-08-14T13:52:13.665Z"
   },
   {
    "duration": 20,
    "start_time": "2024-08-14T13:54:06.281Z"
   },
   {
    "duration": 24,
    "start_time": "2024-08-14T13:56:04.586Z"
   },
   {
    "duration": 582,
    "start_time": "2024-08-14T13:57:27.792Z"
   },
   {
    "duration": 3,
    "start_time": "2024-08-14T13:59:31.816Z"
   },
   {
    "duration": 61,
    "start_time": "2024-08-14T14:06:05.007Z"
   },
   {
    "duration": 160,
    "start_time": "2024-08-14T14:07:32.847Z"
   },
   {
    "duration": 3,
    "start_time": "2024-08-14T14:07:39.281Z"
   },
   {
    "duration": 276,
    "start_time": "2024-08-14T14:28:06.969Z"
   },
   {
    "duration": 71,
    "start_time": "2024-08-14T14:28:07.524Z"
   },
   {
    "duration": 28,
    "start_time": "2024-08-14T14:28:07.887Z"
   },
   {
    "duration": 77,
    "start_time": "2024-08-14T14:28:12.275Z"
   },
   {
    "duration": 15,
    "start_time": "2024-08-14T14:28:15.990Z"
   },
   {
    "duration": 10,
    "start_time": "2024-08-14T14:28:16.844Z"
   },
   {
    "duration": 8,
    "start_time": "2024-08-14T14:28:21.297Z"
   },
   {
    "duration": 3,
    "start_time": "2024-08-14T14:28:23.341Z"
   },
   {
    "duration": 25,
    "start_time": "2024-08-14T14:28:24.536Z"
   },
   {
    "duration": 19,
    "start_time": "2024-08-14T14:28:24.899Z"
   },
   {
    "duration": 61,
    "start_time": "2024-08-14T14:28:26.692Z"
   },
   {
    "duration": 4,
    "start_time": "2024-08-14T14:28:27.212Z"
   },
   {
    "duration": 20,
    "start_time": "2024-08-14T14:28:27.551Z"
   },
   {
    "duration": 15,
    "start_time": "2024-08-14T14:28:27.709Z"
   },
   {
    "duration": 33,
    "start_time": "2024-08-14T14:28:28.492Z"
   },
   {
    "duration": 4,
    "start_time": "2024-08-14T14:28:28.921Z"
   },
   {
    "duration": 23,
    "start_time": "2024-08-14T14:28:30.477Z"
   },
   {
    "duration": 17,
    "start_time": "2024-08-14T14:28:30.755Z"
   },
   {
    "duration": 62,
    "start_time": "2024-08-14T14:28:31.827Z"
   },
   {
    "duration": 4,
    "start_time": "2024-08-14T14:28:32.660Z"
   },
   {
    "duration": 8,
    "start_time": "2024-08-14T14:28:33.490Z"
   },
   {
    "duration": 94,
    "start_time": "2024-08-14T14:28:34.102Z"
   },
   {
    "duration": 65,
    "start_time": "2024-08-14T14:28:34.368Z"
   },
   {
    "duration": 75,
    "start_time": "2024-08-14T14:28:34.887Z"
   },
   {
    "duration": 89,
    "start_time": "2024-08-14T14:28:35.229Z"
   },
   {
    "duration": 25,
    "start_time": "2024-08-14T14:28:35.832Z"
   },
   {
    "duration": 4,
    "start_time": "2024-08-14T14:28:36.122Z"
   },
   {
    "duration": 3,
    "start_time": "2024-08-14T14:28:36.755Z"
   },
   {
    "duration": 15,
    "start_time": "2024-08-14T14:59:24.101Z"
   },
   {
    "duration": 33,
    "start_time": "2024-08-14T15:00:18.057Z"
   },
   {
    "duration": 8,
    "start_time": "2024-08-14T15:01:53.842Z"
   },
   {
    "duration": 8,
    "start_time": "2024-08-14T15:01:55.712Z"
   },
   {
    "duration": 10,
    "start_time": "2024-08-14T15:01:56.929Z"
   },
   {
    "duration": 9,
    "start_time": "2024-08-14T15:02:24.136Z"
   },
   {
    "duration": 9,
    "start_time": "2024-08-14T15:02:37.827Z"
   },
   {
    "duration": 25,
    "start_time": "2024-08-14T15:06:05.409Z"
   },
   {
    "duration": 8,
    "start_time": "2024-08-14T15:06:13.846Z"
   },
   {
    "duration": 8,
    "start_time": "2024-08-14T15:06:26.762Z"
   },
   {
    "duration": 26,
    "start_time": "2024-08-14T15:06:38.784Z"
   },
   {
    "duration": 23,
    "start_time": "2024-08-14T15:06:47.235Z"
   },
   {
    "duration": 441,
    "start_time": "2024-08-14T15:06:56.482Z"
   },
   {
    "duration": 74,
    "start_time": "2024-08-14T15:07:35.427Z"
   },
   {
    "duration": 33,
    "start_time": "2024-08-14T15:09:11.782Z"
   },
   {
    "duration": 3,
    "start_time": "2024-08-14T15:10:59.582Z"
   },
   {
    "duration": 6,
    "start_time": "2024-08-14T15:12:58.198Z"
   },
   {
    "duration": 5,
    "start_time": "2024-08-14T15:13:03.426Z"
   },
   {
    "duration": 308,
    "start_time": "2024-08-14T15:13:25.590Z"
   },
   {
    "duration": 4,
    "start_time": "2024-08-14T15:13:55.558Z"
   },
   {
    "duration": 24,
    "start_time": "2024-08-14T15:14:22.381Z"
   },
   {
    "duration": 253,
    "start_time": "2024-08-14T15:14:48.236Z"
   },
   {
    "duration": 26,
    "start_time": "2024-08-14T15:15:24.299Z"
   },
   {
    "duration": 26,
    "start_time": "2024-08-14T15:15:33.370Z"
   },
   {
    "duration": 138,
    "start_time": "2024-08-14T15:15:36.522Z"
   },
   {
    "duration": 24,
    "start_time": "2024-08-14T15:16:59.008Z"
   },
   {
    "duration": 61,
    "start_time": "2024-08-14T15:17:30.174Z"
   },
   {
    "duration": 61,
    "start_time": "2024-08-14T15:18:40.329Z"
   },
   {
    "duration": 25,
    "start_time": "2024-08-14T15:19:00.040Z"
   },
   {
    "duration": 62,
    "start_time": "2024-08-14T15:19:15.606Z"
   },
   {
    "duration": 78,
    "start_time": "2024-08-14T15:19:52.698Z"
   },
   {
    "duration": 3,
    "start_time": "2024-08-14T15:22:53.737Z"
   },
   {
    "duration": 26,
    "start_time": "2024-08-14T15:29:08.850Z"
   },
   {
    "duration": 28,
    "start_time": "2024-08-14T15:29:46.363Z"
   },
   {
    "duration": 28,
    "start_time": "2024-08-14T15:30:05.374Z"
   },
   {
    "duration": 28,
    "start_time": "2024-08-14T15:30:20.898Z"
   },
   {
    "duration": 220,
    "start_time": "2024-08-14T15:30:26.367Z"
   },
   {
    "duration": 125,
    "start_time": "2024-08-14T15:30:58.119Z"
   },
   {
    "duration": 860,
    "start_time": "2024-08-14T20:43:50.300Z"
   },
   {
    "duration": 775,
    "start_time": "2024-08-14T20:43:51.163Z"
   },
   {
    "duration": 191,
    "start_time": "2024-08-14T20:43:51.940Z"
   },
   {
    "duration": 25,
    "start_time": "2024-08-14T20:43:52.135Z"
   },
   {
    "duration": 197,
    "start_time": "2024-08-14T20:43:52.228Z"
   },
   {
    "duration": 17,
    "start_time": "2024-08-14T20:43:52.428Z"
   },
   {
    "duration": 12,
    "start_time": "2024-08-14T20:43:52.448Z"
   },
   {
    "duration": 70,
    "start_time": "2024-08-14T20:43:52.463Z"
   },
   {
    "duration": 4,
    "start_time": "2024-08-14T20:43:52.536Z"
   },
   {
    "duration": 101,
    "start_time": "2024-08-14T20:43:52.548Z"
   },
   {
    "duration": 21,
    "start_time": "2024-08-14T20:43:52.651Z"
   },
   {
    "duration": 160,
    "start_time": "2024-08-14T20:43:52.674Z"
   },
   {
    "duration": 4,
    "start_time": "2024-08-14T20:43:52.925Z"
   },
   {
    "duration": 111,
    "start_time": "2024-08-14T20:43:52.932Z"
   },
   {
    "duration": 84,
    "start_time": "2024-08-14T20:43:53.046Z"
   },
   {
    "duration": 31,
    "start_time": "2024-08-14T20:43:53.134Z"
   },
   {
    "duration": 60,
    "start_time": "2024-08-14T20:43:53.168Z"
   },
   {
    "duration": 24,
    "start_time": "2024-08-14T20:43:53.231Z"
   },
   {
    "duration": 82,
    "start_time": "2024-08-14T20:43:53.258Z"
   },
   {
    "duration": 191,
    "start_time": "2024-08-14T20:43:53.342Z"
   },
   {
    "duration": 4,
    "start_time": "2024-08-14T20:43:53.535Z"
   },
   {
    "duration": 7,
    "start_time": "2024-08-14T20:43:53.543Z"
   },
   {
    "duration": 235,
    "start_time": "2024-08-14T20:43:53.554Z"
   },
   {
    "duration": 123,
    "start_time": "2024-08-14T20:43:53.825Z"
   },
   {
    "duration": 296,
    "start_time": "2024-08-14T20:43:53.952Z"
   },
   {
    "duration": 233,
    "start_time": "2024-08-14T20:43:54.254Z"
   },
   {
    "duration": 70,
    "start_time": "2024-08-14T20:43:54.492Z"
   },
   {
    "duration": 3,
    "start_time": "2024-08-14T20:43:54.630Z"
   },
   {
    "duration": 904,
    "start_time": "2024-08-14T20:43:54.636Z"
   },
   {
    "duration": 0,
    "start_time": "2024-08-14T20:43:55.543Z"
   },
   {
    "duration": 1,
    "start_time": "2024-08-14T20:43:55.545Z"
   },
   {
    "duration": 0,
    "start_time": "2024-08-14T20:43:55.548Z"
   },
   {
    "duration": 0,
    "start_time": "2024-08-14T20:43:55.550Z"
   },
   {
    "duration": 0,
    "start_time": "2024-08-14T20:43:55.552Z"
   },
   {
    "duration": 0,
    "start_time": "2024-08-14T20:43:55.557Z"
   },
   {
    "duration": 0,
    "start_time": "2024-08-14T20:43:55.560Z"
   },
   {
    "duration": 0,
    "start_time": "2024-08-14T20:43:55.562Z"
   },
   {
    "duration": 709,
    "start_time": "2024-08-14T20:52:48.416Z"
   },
   {
    "duration": 319,
    "start_time": "2024-08-14T20:52:49.128Z"
   },
   {
    "duration": 81,
    "start_time": "2024-08-14T20:52:49.453Z"
   },
   {
    "duration": 22,
    "start_time": "2024-08-14T20:52:49.537Z"
   },
   {
    "duration": 103,
    "start_time": "2024-08-14T20:52:49.563Z"
   },
   {
    "duration": 16,
    "start_time": "2024-08-14T20:52:49.669Z"
   },
   {
    "duration": 9,
    "start_time": "2024-08-14T20:52:49.688Z"
   },
   {
    "duration": 8,
    "start_time": "2024-08-14T20:52:49.726Z"
   },
   {
    "duration": 6,
    "start_time": "2024-08-14T20:52:49.736Z"
   },
   {
    "duration": 25,
    "start_time": "2024-08-14T20:52:49.745Z"
   },
   {
    "duration": 58,
    "start_time": "2024-08-14T20:52:49.773Z"
   },
   {
    "duration": 66,
    "start_time": "2024-08-14T20:52:49.834Z"
   },
   {
    "duration": 22,
    "start_time": "2024-08-14T20:52:49.904Z"
   },
   {
    "duration": 20,
    "start_time": "2024-08-14T20:52:49.932Z"
   },
   {
    "duration": 14,
    "start_time": "2024-08-14T20:52:49.955Z"
   },
   {
    "duration": 66,
    "start_time": "2024-08-14T20:52:49.972Z"
   },
   {
    "duration": 4,
    "start_time": "2024-08-14T20:52:50.040Z"
   },
   {
    "duration": 23,
    "start_time": "2024-08-14T20:52:50.048Z"
   },
   {
    "duration": 17,
    "start_time": "2024-08-14T20:52:50.074Z"
   },
   {
    "duration": 92,
    "start_time": "2024-08-14T20:52:50.093Z"
   },
   {
    "duration": 5,
    "start_time": "2024-08-14T20:52:50.188Z"
   },
   {
    "duration": 33,
    "start_time": "2024-08-14T20:52:50.196Z"
   },
   {
    "duration": 96,
    "start_time": "2024-08-14T20:52:50.231Z"
   },
   {
    "duration": 65,
    "start_time": "2024-08-14T20:52:50.330Z"
   },
   {
    "duration": 74,
    "start_time": "2024-08-14T20:52:50.401Z"
   },
   {
    "duration": 86,
    "start_time": "2024-08-14T20:52:50.479Z"
   },
   {
    "duration": 30,
    "start_time": "2024-08-14T20:52:50.568Z"
   },
   {
    "duration": 3,
    "start_time": "2024-08-14T20:52:50.601Z"
   },
   {
    "duration": 356,
    "start_time": "2024-08-14T20:52:50.607Z"
   },
   {
    "duration": 0,
    "start_time": "2024-08-14T20:52:50.966Z"
   },
   {
    "duration": 0,
    "start_time": "2024-08-14T20:52:50.968Z"
   },
   {
    "duration": 0,
    "start_time": "2024-08-14T20:52:50.970Z"
   },
   {
    "duration": 0,
    "start_time": "2024-08-14T20:52:50.972Z"
   },
   {
    "duration": 0,
    "start_time": "2024-08-14T20:52:50.975Z"
   },
   {
    "duration": 0,
    "start_time": "2024-08-14T20:52:50.977Z"
   },
   {
    "duration": 0,
    "start_time": "2024-08-14T20:52:50.979Z"
   },
   {
    "duration": 0,
    "start_time": "2024-08-14T20:52:50.982Z"
   },
   {
    "duration": 22,
    "start_time": "2024-08-14T20:55:55.974Z"
   },
   {
    "duration": 40,
    "start_time": "2024-08-14T20:56:13.450Z"
   },
   {
    "duration": 327,
    "start_time": "2024-08-15T13:53:22.628Z"
   },
   {
    "duration": 4466,
    "start_time": "2024-08-15T13:53:47.291Z"
   },
   {
    "duration": 5,
    "start_time": "2024-08-15T13:53:58.624Z"
   },
   {
    "duration": 506,
    "start_time": "2024-08-15T13:54:00.509Z"
   },
   {
    "duration": 115,
    "start_time": "2024-08-15T13:54:01.946Z"
   },
   {
    "duration": 28,
    "start_time": "2024-08-15T13:54:02.613Z"
   },
   {
    "duration": 122,
    "start_time": "2024-08-15T13:54:04.986Z"
   },
   {
    "duration": 19,
    "start_time": "2024-08-15T13:54:07.682Z"
   },
   {
    "duration": 14,
    "start_time": "2024-08-15T13:54:08.447Z"
   },
   {
    "duration": 9,
    "start_time": "2024-08-15T13:54:12.071Z"
   },
   {
    "duration": 4,
    "start_time": "2024-08-15T13:54:13.505Z"
   },
   {
    "duration": 42,
    "start_time": "2024-08-15T13:54:14.458Z"
   },
   {
    "duration": 24,
    "start_time": "2024-08-15T13:54:14.937Z"
   },
   {
    "duration": 71,
    "start_time": "2024-08-15T13:54:17.174Z"
   },
   {
    "duration": 19,
    "start_time": "2024-08-15T13:54:19.333Z"
   },
   {
    "duration": 11,
    "start_time": "2024-08-15T13:54:43.501Z"
   },
   {
    "duration": 23,
    "start_time": "2024-08-15T13:55:01.603Z"
   },
   {
    "duration": 17,
    "start_time": "2024-08-15T13:55:02.162Z"
   },
   {
    "duration": 34,
    "start_time": "2024-08-15T13:55:05.513Z"
   },
   {
    "duration": 5,
    "start_time": "2024-08-15T13:55:06.008Z"
   },
   {
    "duration": 33,
    "start_time": "2024-08-15T13:55:06.562Z"
   },
   {
    "duration": 21,
    "start_time": "2024-08-15T13:55:06.857Z"
   },
   {
    "duration": 76,
    "start_time": "2024-08-15T13:55:07.887Z"
   },
   {
    "duration": 6,
    "start_time": "2024-08-15T13:55:08.774Z"
   },
   {
    "duration": 8,
    "start_time": "2024-08-15T13:55:11.150Z"
   },
   {
    "duration": 103,
    "start_time": "2024-08-15T13:55:17.474Z"
   },
   {
    "duration": 83,
    "start_time": "2024-08-15T13:55:18.023Z"
   },
   {
    "duration": 91,
    "start_time": "2024-08-15T13:55:36.581Z"
   },
   {
    "duration": 88,
    "start_time": "2024-08-15T13:55:38.674Z"
   },
   {
    "duration": 41,
    "start_time": "2024-08-15T13:55:40.268Z"
   },
   {
    "duration": 15,
    "start_time": "2024-08-15T13:56:21.245Z"
   },
   {
    "duration": 23,
    "start_time": "2024-08-15T13:58:38.361Z"
   },
   {
    "duration": 32,
    "start_time": "2024-08-15T13:59:53.627Z"
   },
   {
    "duration": 7,
    "start_time": "2024-08-15T14:05:23.749Z"
   },
   {
    "duration": 321,
    "start_time": "2024-08-15T14:05:24.228Z"
   },
   {
    "duration": 84,
    "start_time": "2024-08-15T14:05:24.699Z"
   },
   {
    "duration": 21,
    "start_time": "2024-08-15T14:05:24.849Z"
   },
   {
    "duration": 83,
    "start_time": "2024-08-15T14:05:25.632Z"
   },
   {
    "duration": 16,
    "start_time": "2024-08-15T14:05:26.445Z"
   },
   {
    "duration": 10,
    "start_time": "2024-08-15T14:05:26.603Z"
   },
   {
    "duration": 7,
    "start_time": "2024-08-15T14:05:27.455Z"
   },
   {
    "duration": 6,
    "start_time": "2024-08-15T14:05:27.957Z"
   },
   {
    "duration": 37,
    "start_time": "2024-08-15T14:05:28.314Z"
   },
   {
    "duration": 24,
    "start_time": "2024-08-15T14:05:28.498Z"
   },
   {
    "duration": 61,
    "start_time": "2024-08-15T14:05:29.377Z"
   },
   {
    "duration": 11,
    "start_time": "2024-08-15T14:05:29.884Z"
   },
   {
    "duration": 28,
    "start_time": "2024-08-15T14:05:30.412Z"
   },
   {
    "duration": 18,
    "start_time": "2024-08-15T14:05:31.816Z"
   },
   {
    "duration": 33,
    "start_time": "2024-08-15T14:05:32.762Z"
   },
   {
    "duration": 4,
    "start_time": "2024-08-15T14:05:33.144Z"
   },
   {
    "duration": 32,
    "start_time": "2024-08-15T14:05:33.488Z"
   },
   {
    "duration": 19,
    "start_time": "2024-08-15T14:05:33.671Z"
   },
   {
    "duration": 75,
    "start_time": "2024-08-15T14:05:34.344Z"
   },
   {
    "duration": 3,
    "start_time": "2024-08-15T14:05:35.043Z"
   },
   {
    "duration": 9,
    "start_time": "2024-08-15T14:05:35.817Z"
   },
   {
    "duration": 93,
    "start_time": "2024-08-15T14:05:36.570Z"
   },
   {
    "duration": 71,
    "start_time": "2024-08-15T14:05:36.794Z"
   },
   {
    "duration": 82,
    "start_time": "2024-08-15T14:05:37.423Z"
   },
   {
    "duration": 91,
    "start_time": "2024-08-15T14:05:37.702Z"
   },
   {
    "duration": 38,
    "start_time": "2024-08-15T14:05:38.194Z"
   },
   {
    "duration": 44,
    "start_time": "2024-08-15T14:05:43.286Z"
   },
   {
    "duration": 34,
    "start_time": "2024-08-15T14:05:48.323Z"
   },
   {
    "duration": 100,
    "start_time": "2024-08-15T14:06:16.242Z"
   },
   {
    "duration": 884,
    "start_time": "2024-08-15T14:07:42.046Z"
   },
   {
    "duration": 109,
    "start_time": "2024-08-15T14:08:49.433Z"
   },
   {
    "duration": 42,
    "start_time": "2024-08-15T14:10:52.770Z"
   },
   {
    "duration": 100,
    "start_time": "2024-08-15T14:11:12.642Z"
   },
   {
    "duration": 26,
    "start_time": "2024-08-15T14:20:41.749Z"
   },
   {
    "duration": 1528,
    "start_time": "2024-08-15T14:22:09.665Z"
   },
   {
    "duration": 32,
    "start_time": "2024-08-15T14:27:17.853Z"
   },
   {
    "duration": 26,
    "start_time": "2024-08-15T14:29:07.437Z"
   },
   {
    "duration": 33,
    "start_time": "2024-08-15T14:33:24.277Z"
   },
   {
    "duration": 57,
    "start_time": "2024-08-15T14:35:05.982Z"
   },
   {
    "duration": 30,
    "start_time": "2024-08-15T14:35:45.741Z"
   },
   {
    "duration": 3,
    "start_time": "2024-08-15T14:48:57.889Z"
   },
   {
    "duration": 361,
    "start_time": "2024-08-15T14:48:58.392Z"
   },
   {
    "duration": 86,
    "start_time": "2024-08-15T14:48:58.855Z"
   },
   {
    "duration": 40,
    "start_time": "2024-08-15T14:48:58.999Z"
   },
   {
    "duration": 92,
    "start_time": "2024-08-15T14:48:59.803Z"
   },
   {
    "duration": 14,
    "start_time": "2024-08-15T14:49:00.690Z"
   },
   {
    "duration": 9,
    "start_time": "2024-08-15T14:49:00.870Z"
   },
   {
    "duration": 17,
    "start_time": "2024-08-15T14:49:01.824Z"
   },
   {
    "duration": 13,
    "start_time": "2024-08-15T14:49:02.428Z"
   },
   {
    "duration": 46,
    "start_time": "2024-08-15T14:49:02.810Z"
   },
   {
    "duration": 24,
    "start_time": "2024-08-15T14:49:03.047Z"
   },
   {
    "duration": 58,
    "start_time": "2024-08-15T14:49:04.534Z"
   },
   {
    "duration": 13,
    "start_time": "2024-08-15T14:49:05.706Z"
   },
   {
    "duration": 20,
    "start_time": "2024-08-15T14:49:06.877Z"
   },
   {
    "duration": 14,
    "start_time": "2024-08-15T14:49:07.094Z"
   },
   {
    "duration": 29,
    "start_time": "2024-08-15T14:49:08.067Z"
   },
   {
    "duration": 3,
    "start_time": "2024-08-15T14:49:08.564Z"
   },
   {
    "duration": 24,
    "start_time": "2024-08-15T14:49:09.072Z"
   },
   {
    "duration": 16,
    "start_time": "2024-08-15T14:49:09.666Z"
   },
   {
    "duration": 78,
    "start_time": "2024-08-15T14:49:11.265Z"
   },
   {
    "duration": 4,
    "start_time": "2024-08-15T14:49:12.498Z"
   },
   {
    "duration": 8,
    "start_time": "2024-08-15T14:49:14.584Z"
   },
   {
    "duration": 187,
    "start_time": "2024-08-15T14:49:15.818Z"
   },
   {
    "duration": 75,
    "start_time": "2024-08-15T14:49:16.020Z"
   },
   {
    "duration": 82,
    "start_time": "2024-08-15T14:49:16.376Z"
   },
   {
    "duration": 101,
    "start_time": "2024-08-15T14:49:16.644Z"
   },
   {
    "duration": 26,
    "start_time": "2024-08-15T14:49:17.169Z"
   },
   {
    "duration": 54,
    "start_time": "2024-08-15T14:49:23.203Z"
   },
   {
    "duration": 239,
    "start_time": "2024-08-15T14:49:29.410Z"
   },
   {
    "duration": 112,
    "start_time": "2024-08-15T14:50:34.791Z"
   },
   {
    "duration": 72,
    "start_time": "2024-08-15T14:51:23.371Z"
   },
   {
    "duration": 415,
    "start_time": "2024-08-15T14:53:18.547Z"
   },
   {
    "duration": 55,
    "start_time": "2024-08-15T14:54:28.864Z"
   },
   {
    "duration": 89,
    "start_time": "2024-08-15T14:58:56.637Z"
   },
   {
    "duration": 108,
    "start_time": "2024-08-15T14:59:14.951Z"
   },
   {
    "duration": 98,
    "start_time": "2024-08-15T14:59:34.946Z"
   },
   {
    "duration": 31,
    "start_time": "2024-08-15T15:00:13.689Z"
   },
   {
    "duration": 45,
    "start_time": "2024-08-15T15:04:37.222Z"
   },
   {
    "duration": 31,
    "start_time": "2024-08-15T15:04:44.568Z"
   },
   {
    "duration": 41,
    "start_time": "2024-08-15T15:05:29.103Z"
   },
   {
    "duration": 41,
    "start_time": "2024-08-15T15:05:38.217Z"
   },
   {
    "duration": 33,
    "start_time": "2024-08-15T15:05:42.801Z"
   },
   {
    "duration": 33,
    "start_time": "2024-08-15T15:07:42.754Z"
   },
   {
    "duration": 34,
    "start_time": "2024-08-15T15:07:56.505Z"
   },
   {
    "duration": 26,
    "start_time": "2024-08-15T15:09:05.246Z"
   },
   {
    "duration": 26,
    "start_time": "2024-08-15T15:09:16.916Z"
   },
   {
    "duration": 29,
    "start_time": "2024-08-15T15:09:52.829Z"
   },
   {
    "duration": 30,
    "start_time": "2024-08-15T15:10:08.294Z"
   },
   {
    "duration": 31,
    "start_time": "2024-08-15T15:10:59.281Z"
   },
   {
    "duration": 23,
    "start_time": "2024-08-15T15:11:23.849Z"
   },
   {
    "duration": 12,
    "start_time": "2024-08-15T15:12:11.616Z"
   },
   {
    "duration": 34,
    "start_time": "2024-08-15T15:12:14.837Z"
   },
   {
    "duration": 25,
    "start_time": "2024-08-15T15:12:21.274Z"
   },
   {
    "duration": 25,
    "start_time": "2024-08-15T15:14:43.821Z"
   },
   {
    "duration": 19,
    "start_time": "2024-08-15T15:18:46.328Z"
   },
   {
    "duration": 25,
    "start_time": "2024-08-15T15:19:15.377Z"
   },
   {
    "duration": 24,
    "start_time": "2024-08-15T15:19:30.330Z"
   },
   {
    "duration": 26,
    "start_time": "2024-08-15T15:19:34.128Z"
   },
   {
    "duration": 49,
    "start_time": "2024-08-15T15:22:47.899Z"
   },
   {
    "duration": 26,
    "start_time": "2024-08-15T15:23:18.473Z"
   },
   {
    "duration": 59,
    "start_time": "2024-08-15T15:27:14.441Z"
   },
   {
    "duration": 52,
    "start_time": "2024-08-15T15:28:00.195Z"
   },
   {
    "duration": 69,
    "start_time": "2024-08-15T15:28:38.666Z"
   },
   {
    "duration": 62,
    "start_time": "2024-08-15T15:29:01.297Z"
   },
   {
    "duration": 52,
    "start_time": "2024-08-15T15:30:04.083Z"
   },
   {
    "duration": 38,
    "start_time": "2024-08-15T15:30:12.317Z"
   },
   {
    "duration": 395,
    "start_time": "2024-08-15T15:30:27.002Z"
   },
   {
    "duration": 47,
    "start_time": "2024-08-15T15:31:55.395Z"
   },
   {
    "duration": 637,
    "start_time": "2024-08-15T15:31:59.065Z"
   },
   {
    "duration": 73,
    "start_time": "2024-08-15T15:32:09.619Z"
   },
   {
    "duration": 94,
    "start_time": "2024-08-15T15:32:36.038Z"
   },
   {
    "duration": 78,
    "start_time": "2024-08-15T15:32:53.335Z"
   },
   {
    "duration": 38,
    "start_time": "2024-08-15T15:32:58.773Z"
   },
   {
    "duration": 38,
    "start_time": "2024-08-15T15:33:08.531Z"
   },
   {
    "duration": 26,
    "start_time": "2024-08-15T15:33:15.973Z"
   },
   {
    "duration": 26,
    "start_time": "2024-08-15T15:33:29.898Z"
   },
   {
    "duration": 31,
    "start_time": "2024-08-15T15:48:23.436Z"
   },
   {
    "duration": 74,
    "start_time": "2024-08-15T15:48:48.043Z"
   },
   {
    "duration": 439,
    "start_time": "2024-08-15T15:49:52.131Z"
   },
   {
    "duration": 52,
    "start_time": "2024-08-15T15:50:12.270Z"
   },
   {
    "duration": 42,
    "start_time": "2024-08-15T15:50:25.850Z"
   },
   {
    "duration": 116,
    "start_time": "2024-08-15T15:52:06.144Z"
   },
   {
    "duration": 253,
    "start_time": "2024-08-15T15:53:09.330Z"
   },
   {
    "duration": 134,
    "start_time": "2024-08-15T15:54:02.142Z"
   },
   {
    "duration": 124,
    "start_time": "2024-08-15T15:54:15.161Z"
   },
   {
    "duration": 119,
    "start_time": "2024-08-15T15:54:28.136Z"
   },
   {
    "duration": 105,
    "start_time": "2024-08-15T15:55:43.165Z"
   },
   {
    "duration": 124,
    "start_time": "2024-08-15T15:56:01.998Z"
   },
   {
    "duration": 111,
    "start_time": "2024-08-15T15:56:15.372Z"
   },
   {
    "duration": 95,
    "start_time": "2024-08-15T15:57:29.853Z"
   },
   {
    "duration": 228,
    "start_time": "2024-08-15T16:01:39.217Z"
   },
   {
    "duration": 267,
    "start_time": "2024-08-15T16:02:16.945Z"
   },
   {
    "duration": 805,
    "start_time": "2024-08-15T16:02:57.919Z"
   },
   {
    "duration": 375,
    "start_time": "2024-08-15T16:04:37.069Z"
   },
   {
    "duration": 425,
    "start_time": "2024-08-15T16:06:14.730Z"
   },
   {
    "duration": 437,
    "start_time": "2024-08-15T16:08:41.021Z"
   },
   {
    "duration": 1306,
    "start_time": "2024-08-15T16:09:04.333Z"
   },
   {
    "duration": 293,
    "start_time": "2024-08-15T16:09:09.776Z"
   },
   {
    "duration": 487,
    "start_time": "2024-08-15T16:09:25.316Z"
   },
   {
    "duration": 425,
    "start_time": "2024-08-15T16:13:07.962Z"
   },
   {
    "duration": 447,
    "start_time": "2024-08-15T16:13:36.310Z"
   },
   {
    "duration": 306,
    "start_time": "2024-08-15T16:16:13.317Z"
   },
   {
    "duration": 2158,
    "start_time": "2024-08-29T12:17:53.673Z"
   },
   {
    "duration": 275,
    "start_time": "2024-08-29T12:17:55.833Z"
   },
   {
    "duration": 43,
    "start_time": "2024-08-29T12:17:56.808Z"
   },
   {
    "duration": 14,
    "start_time": "2024-08-29T12:17:57.271Z"
   },
   {
    "duration": 44,
    "start_time": "2024-08-29T12:17:59.150Z"
   },
   {
    "duration": 8,
    "start_time": "2024-08-29T12:18:01.608Z"
   },
   {
    "duration": 6,
    "start_time": "2024-08-29T12:18:02.102Z"
   },
   {
    "duration": 5,
    "start_time": "2024-08-29T12:18:03.698Z"
   },
   {
    "duration": 2,
    "start_time": "2024-08-29T12:18:04.704Z"
   },
   {
    "duration": 15,
    "start_time": "2024-08-29T12:18:05.437Z"
   },
   {
    "duration": 14,
    "start_time": "2024-08-29T12:18:05.833Z"
   },
   {
    "duration": 46,
    "start_time": "2024-08-29T12:18:08.001Z"
   },
   {
    "duration": 7,
    "start_time": "2024-08-29T12:18:09.081Z"
   },
   {
    "duration": 13,
    "start_time": "2024-08-29T12:18:22.330Z"
   },
   {
    "duration": 8,
    "start_time": "2024-08-29T12:18:22.647Z"
   },
   {
    "duration": 18,
    "start_time": "2024-08-29T12:18:23.938Z"
   },
   {
    "duration": 3,
    "start_time": "2024-08-29T12:18:24.584Z"
   },
   {
    "duration": 18,
    "start_time": "2024-08-29T12:18:25.017Z"
   },
   {
    "duration": 10,
    "start_time": "2024-08-29T12:18:25.215Z"
   },
   {
    "duration": 33,
    "start_time": "2024-08-29T12:18:26.095Z"
   },
   {
    "duration": 2,
    "start_time": "2024-08-29T12:18:26.673Z"
   },
   {
    "duration": 5,
    "start_time": "2024-08-29T12:18:27.276Z"
   },
   {
    "duration": 77,
    "start_time": "2024-08-29T12:18:28.040Z"
   },
   {
    "duration": 65,
    "start_time": "2024-08-29T12:18:28.256Z"
   },
   {
    "duration": 90,
    "start_time": "2024-08-29T12:18:29.000Z"
   },
   {
    "duration": 72,
    "start_time": "2024-08-29T12:18:29.237Z"
   },
   {
    "duration": 22,
    "start_time": "2024-08-29T12:18:29.938Z"
   },
   {
    "duration": 23,
    "start_time": "2024-08-29T12:18:43.542Z"
   },
   {
    "duration": 31,
    "start_time": "2024-08-29T12:18:54.553Z"
   },
   {
    "duration": 1089,
    "start_time": "2024-08-29T12:19:02.961Z"
   },
   {
    "duration": 10,
    "start_time": "2024-08-29T13:28:36.040Z"
   },
   {
    "duration": 22,
    "start_time": "2024-08-29T13:31:50.406Z"
   },
   {
    "duration": 10,
    "start_time": "2024-08-29T13:31:54.308Z"
   },
   {
    "duration": 10,
    "start_time": "2024-08-29T13:32:02.498Z"
   },
   {
    "duration": 196,
    "start_time": "2024-08-29T13:33:19.703Z"
   },
   {
    "duration": 433,
    "start_time": "2024-08-29T13:33:29.014Z"
   },
   {
    "duration": 171,
    "start_time": "2024-08-29T13:34:34.831Z"
   },
   {
    "duration": 33,
    "start_time": "2024-08-29T13:35:13.422Z"
   },
   {
    "duration": 28,
    "start_time": "2024-08-29T13:38:23.006Z"
   },
   {
    "duration": 207,
    "start_time": "2024-08-29T13:39:21.013Z"
   },
   {
    "duration": 227,
    "start_time": "2024-08-29T13:40:24.249Z"
   },
   {
    "duration": 267,
    "start_time": "2024-08-29T13:40:36.677Z"
   },
   {
    "duration": 326,
    "start_time": "2024-08-29T13:40:53.183Z"
   },
   {
    "duration": 218,
    "start_time": "2024-08-29T13:40:58.388Z"
   },
   {
    "duration": 9,
    "start_time": "2024-08-29T13:47:14.229Z"
   },
   {
    "duration": 10,
    "start_time": "2024-08-29T13:47:21.278Z"
   },
   {
    "duration": 221,
    "start_time": "2024-08-29T13:48:17.192Z"
   },
   {
    "duration": 9,
    "start_time": "2024-08-29T13:51:02.464Z"
   },
   {
    "duration": 23,
    "start_time": "2024-08-29T13:52:29.368Z"
   },
   {
    "duration": 10,
    "start_time": "2024-08-29T13:54:32.414Z"
   },
   {
    "duration": 9,
    "start_time": "2024-08-29T13:54:40.273Z"
   },
   {
    "duration": 7,
    "start_time": "2024-08-29T13:55:18.915Z"
   },
   {
    "duration": 8,
    "start_time": "2024-08-29T13:55:24.505Z"
   },
   {
    "duration": 113,
    "start_time": "2024-08-29T13:56:01.379Z"
   },
   {
    "duration": 9,
    "start_time": "2024-08-29T14:12:26.890Z"
   },
   {
    "duration": 9,
    "start_time": "2024-08-29T14:12:32.775Z"
   },
   {
    "duration": 24,
    "start_time": "2024-08-29T14:12:59.342Z"
   },
   {
    "duration": 161,
    "start_time": "2024-08-29T14:13:20.034Z"
   },
   {
    "duration": 31,
    "start_time": "2024-08-29T14:15:00.569Z"
   },
   {
    "duration": 585,
    "start_time": "2024-08-29T14:15:09.902Z"
   },
   {
    "duration": 13,
    "start_time": "2024-08-29T14:15:27.431Z"
   },
   {
    "duration": 234,
    "start_time": "2024-08-29T14:18:48.866Z"
   },
   {
    "duration": 108,
    "start_time": "2024-08-29T14:20:54.960Z"
   },
   {
    "duration": 50,
    "start_time": "2024-08-29T14:21:00.751Z"
   },
   {
    "duration": 216,
    "start_time": "2024-08-29T14:23:22.493Z"
   },
   {
    "duration": 39,
    "start_time": "2024-08-29T14:27:57.624Z"
   },
   {
    "duration": 242,
    "start_time": "2024-08-29T14:29:43.406Z"
   },
   {
    "duration": 217,
    "start_time": "2024-08-29T14:29:46.898Z"
   },
   {
    "duration": 451,
    "start_time": "2024-08-29T14:32:49.286Z"
   },
   {
    "duration": 241,
    "start_time": "2024-08-29T14:33:13.084Z"
   },
   {
    "duration": 8,
    "start_time": "2024-08-29T14:37:48.937Z"
   },
   {
    "duration": 124,
    "start_time": "2024-08-29T14:40:03.640Z"
   },
   {
    "duration": 54,
    "start_time": "2024-08-29T14:56:49.032Z"
   },
   {
    "duration": 41,
    "start_time": "2024-08-29T15:01:44.890Z"
   },
   {
    "duration": 19,
    "start_time": "2024-08-29T15:01:53.042Z"
   },
   {
    "duration": 11,
    "start_time": "2024-08-29T15:03:42.179Z"
   },
   {
    "duration": 7,
    "start_time": "2024-08-29T15:06:12.176Z"
   },
   {
    "duration": 321,
    "start_time": "2024-08-29T15:10:36.132Z"
   },
   {
    "duration": 153,
    "start_time": "2024-08-29T15:10:36.585Z"
   },
   {
    "duration": 46,
    "start_time": "2024-08-29T15:10:37.038Z"
   },
   {
    "duration": 14,
    "start_time": "2024-08-29T15:10:37.178Z"
   },
   {
    "duration": 56,
    "start_time": "2024-08-29T15:10:37.906Z"
   },
   {
    "duration": 9,
    "start_time": "2024-08-29T15:10:38.664Z"
   },
   {
    "duration": 8,
    "start_time": "2024-08-29T15:10:38.834Z"
   },
   {
    "duration": 5,
    "start_time": "2024-08-29T15:10:39.583Z"
   },
   {
    "duration": 3,
    "start_time": "2024-08-29T15:10:40.058Z"
   },
   {
    "duration": 17,
    "start_time": "2024-08-29T15:10:40.353Z"
   },
   {
    "duration": 12,
    "start_time": "2024-08-29T15:10:40.491Z"
   },
   {
    "duration": 28,
    "start_time": "2024-08-29T15:10:41.280Z"
   },
   {
    "duration": 7,
    "start_time": "2024-08-29T15:10:41.756Z"
   },
   {
    "duration": 12,
    "start_time": "2024-08-29T15:10:42.262Z"
   },
   {
    "duration": 10,
    "start_time": "2024-08-29T15:10:42.410Z"
   },
   {
    "duration": 20,
    "start_time": "2024-08-29T15:10:43.060Z"
   },
   {
    "duration": 3,
    "start_time": "2024-08-29T15:10:43.419Z"
   },
   {
    "duration": 18,
    "start_time": "2024-08-29T15:10:43.769Z"
   },
   {
    "duration": 10,
    "start_time": "2024-08-29T15:10:43.976Z"
   },
   {
    "duration": 41,
    "start_time": "2024-08-29T15:10:44.849Z"
   },
   {
    "duration": 3,
    "start_time": "2024-08-29T15:10:45.498Z"
   },
   {
    "duration": 4,
    "start_time": "2024-08-29T15:10:46.399Z"
   },
   {
    "duration": 69,
    "start_time": "2024-08-29T15:10:47.243Z"
   },
   {
    "duration": 48,
    "start_time": "2024-08-29T15:10:47.490Z"
   },
   {
    "duration": 50,
    "start_time": "2024-08-29T15:10:47.837Z"
   },
   {
    "duration": 56,
    "start_time": "2024-08-29T15:10:47.993Z"
   },
   {
    "duration": 19,
    "start_time": "2024-08-29T15:10:48.307Z"
   },
   {
    "duration": 24,
    "start_time": "2024-08-29T15:10:48.772Z"
   },
   {
    "duration": 30,
    "start_time": "2024-08-29T15:10:49.440Z"
   },
   {
    "duration": 230,
    "start_time": "2024-08-29T15:10:50.689Z"
   },
   {
    "duration": 217,
    "start_time": "2024-08-29T15:10:51.048Z"
   },
   {
    "duration": 9,
    "start_time": "2024-08-29T15:10:51.961Z"
   },
   {
    "duration": 114,
    "start_time": "2024-08-29T15:10:52.138Z"
   },
   {
    "duration": 208,
    "start_time": "2024-08-29T15:10:53.241Z"
   },
   {
    "duration": 109,
    "start_time": "2024-08-29T15:10:53.540Z"
   },
   {
    "duration": 2,
    "start_time": "2024-08-29T15:10:54.386Z"
   },
   {
    "duration": 3,
    "start_time": "2024-08-29T15:10:57.245Z"
   },
   {
    "duration": 4,
    "start_time": "2024-08-29T15:10:57.736Z"
   },
   {
    "duration": 9,
    "start_time": "2024-08-29T15:11:01.131Z"
   },
   {
    "duration": 7,
    "start_time": "2024-08-29T15:11:56.542Z"
   },
   {
    "duration": 408,
    "start_time": "2024-08-29T15:13:33.650Z"
   },
   {
    "duration": 791,
    "start_time": "2024-08-30T06:27:03.383Z"
   },
   {
    "duration": 291,
    "start_time": "2024-08-30T06:27:04.177Z"
   },
   {
    "duration": 42,
    "start_time": "2024-08-30T06:27:04.469Z"
   },
   {
    "duration": 26,
    "start_time": "2024-08-30T06:27:04.513Z"
   },
   {
    "duration": 52,
    "start_time": "2024-08-30T06:27:04.541Z"
   },
   {
    "duration": 8,
    "start_time": "2024-08-30T06:27:04.596Z"
   },
   {
    "duration": 6,
    "start_time": "2024-08-30T06:27:04.606Z"
   },
   {
    "duration": 11,
    "start_time": "2024-08-30T06:27:04.614Z"
   },
   {
    "duration": 8,
    "start_time": "2024-08-30T06:27:04.631Z"
   },
   {
    "duration": 21,
    "start_time": "2024-08-30T06:27:04.643Z"
   },
   {
    "duration": 11,
    "start_time": "2024-08-30T06:27:04.665Z"
   },
   {
    "duration": 28,
    "start_time": "2024-08-30T06:27:04.678Z"
   },
   {
    "duration": 21,
    "start_time": "2024-08-30T06:27:04.707Z"
   },
   {
    "duration": 25,
    "start_time": "2024-08-30T06:27:04.730Z"
   },
   {
    "duration": 7,
    "start_time": "2024-08-30T06:27:04.757Z"
   },
   {
    "duration": 15,
    "start_time": "2024-08-30T06:27:04.766Z"
   },
   {
    "duration": 2,
    "start_time": "2024-08-30T06:27:04.783Z"
   },
   {
    "duration": 14,
    "start_time": "2024-08-30T06:27:04.787Z"
   },
   {
    "duration": 19,
    "start_time": "2024-08-30T06:27:04.828Z"
   },
   {
    "duration": 34,
    "start_time": "2024-08-30T06:27:04.849Z"
   },
   {
    "duration": 2,
    "start_time": "2024-08-30T06:27:04.885Z"
   },
   {
    "duration": 5,
    "start_time": "2024-08-30T06:27:04.889Z"
   },
   {
    "duration": 97,
    "start_time": "2024-08-30T06:27:04.895Z"
   },
   {
    "duration": 64,
    "start_time": "2024-08-30T06:27:04.996Z"
   },
   {
    "duration": 60,
    "start_time": "2024-08-30T06:27:06.401Z"
   },
   {
    "duration": 68,
    "start_time": "2024-08-30T06:27:06.502Z"
   },
   {
    "duration": 16,
    "start_time": "2024-08-30T06:27:06.572Z"
   },
   {
    "duration": 18,
    "start_time": "2024-08-30T06:27:06.589Z"
   },
   {
    "duration": 25,
    "start_time": "2024-08-30T06:27:06.648Z"
   },
   {
    "duration": 301,
    "start_time": "2024-08-30T06:27:06.674Z"
   },
   {
    "duration": 229,
    "start_time": "2024-08-30T06:27:06.977Z"
   },
   {
    "duration": 18,
    "start_time": "2024-08-30T06:27:07.208Z"
   },
   {
    "duration": 146,
    "start_time": "2024-08-30T06:27:07.229Z"
   },
   {
    "duration": 252,
    "start_time": "2024-08-30T06:27:07.377Z"
   },
   {
    "duration": 125,
    "start_time": "2024-08-30T06:27:07.631Z"
   },
   {
    "duration": 255,
    "start_time": "2024-08-30T06:27:07.757Z"
   },
   {
    "duration": 2,
    "start_time": "2024-08-30T06:27:08.014Z"
   },
   {
    "duration": 8,
    "start_time": "2024-08-30T06:27:08.028Z"
   },
   {
    "duration": 22,
    "start_time": "2024-08-30T06:27:08.046Z"
   },
   {
    "duration": 5,
    "start_time": "2024-08-30T06:27:08.071Z"
   },
   {
    "duration": 3,
    "start_time": "2024-08-30T06:27:08.077Z"
   },
   {
    "duration": 806,
    "start_time": "2024-08-30T06:36:58.771Z"
   },
   {
    "duration": 168,
    "start_time": "2024-08-30T06:36:59.580Z"
   },
   {
    "duration": 46,
    "start_time": "2024-08-30T06:36:59.750Z"
   },
   {
    "duration": 11,
    "start_time": "2024-08-30T06:36:59.798Z"
   },
   {
    "duration": 71,
    "start_time": "2024-08-30T06:36:59.812Z"
   },
   {
    "duration": 8,
    "start_time": "2024-08-30T06:36:59.885Z"
   },
   {
    "duration": 6,
    "start_time": "2024-08-30T06:36:59.894Z"
   },
   {
    "duration": 5,
    "start_time": "2024-08-30T06:36:59.901Z"
   },
   {
    "duration": 2,
    "start_time": "2024-08-30T06:36:59.908Z"
   },
   {
    "duration": 31,
    "start_time": "2024-08-30T06:36:59.925Z"
   },
   {
    "duration": 12,
    "start_time": "2024-08-30T06:36:59.958Z"
   },
   {
    "duration": 30,
    "start_time": "2024-08-30T06:36:59.971Z"
   },
   {
    "duration": 27,
    "start_time": "2024-08-30T06:37:00.003Z"
   },
   {
    "duration": 21,
    "start_time": "2024-08-30T06:37:00.034Z"
   },
   {
    "duration": 7,
    "start_time": "2024-08-30T06:37:00.061Z"
   },
   {
    "duration": 15,
    "start_time": "2024-08-30T06:37:00.069Z"
   },
   {
    "duration": 3,
    "start_time": "2024-08-30T06:37:00.085Z"
   },
   {
    "duration": 39,
    "start_time": "2024-08-30T06:37:00.089Z"
   },
   {
    "duration": 14,
    "start_time": "2024-08-30T06:37:00.130Z"
   },
   {
    "duration": 42,
    "start_time": "2024-08-30T06:37:00.146Z"
   },
   {
    "duration": 4,
    "start_time": "2024-08-30T06:37:00.189Z"
   },
   {
    "duration": 6,
    "start_time": "2024-08-30T06:37:00.194Z"
   },
   {
    "duration": 86,
    "start_time": "2024-08-30T06:37:00.202Z"
   },
   {
    "duration": 58,
    "start_time": "2024-08-30T06:37:00.290Z"
   },
   {
    "duration": 44,
    "start_time": "2024-08-30T06:37:00.350Z"
   },
   {
    "duration": 64,
    "start_time": "2024-08-30T06:37:00.396Z"
   },
   {
    "duration": 15,
    "start_time": "2024-08-30T06:37:00.462Z"
   },
   {
    "duration": 18,
    "start_time": "2024-08-30T06:37:00.478Z"
   },
   {
    "duration": 25,
    "start_time": "2024-08-30T06:37:00.497Z"
   },
   {
    "duration": 317,
    "start_time": "2024-08-30T06:37:00.524Z"
   },
   {
    "duration": 223,
    "start_time": "2024-08-30T06:37:00.842Z"
   },
   {
    "duration": 7,
    "start_time": "2024-08-30T06:37:01.067Z"
   },
   {
    "duration": 149,
    "start_time": "2024-08-30T06:37:01.076Z"
   },
   {
    "duration": 246,
    "start_time": "2024-08-30T06:37:01.228Z"
   },
   {
    "duration": 122,
    "start_time": "2024-08-30T06:37:01.477Z"
   },
   {
    "duration": 252,
    "start_time": "2024-08-30T06:37:01.601Z"
   },
   {
    "duration": 3,
    "start_time": "2024-08-30T06:37:01.855Z"
   },
   {
    "duration": 3,
    "start_time": "2024-08-30T06:37:01.860Z"
   },
   {
    "duration": 7,
    "start_time": "2024-08-30T06:37:01.864Z"
   },
   {
    "duration": 6,
    "start_time": "2024-08-30T06:37:01.873Z"
   },
   {
    "duration": 2,
    "start_time": "2024-08-30T06:37:01.883Z"
   },
   {
    "duration": 6,
    "start_time": "2024-08-30T06:38:12.944Z"
   },
   {
    "duration": 30,
    "start_time": "2024-08-30T06:38:18.538Z"
   },
   {
    "duration": 26,
    "start_time": "2024-08-30T06:40:11.004Z"
   },
   {
    "duration": 25,
    "start_time": "2024-08-30T06:41:08.392Z"
   },
   {
    "duration": 2453,
    "start_time": "2024-08-30T12:21:10.889Z"
   },
   {
    "duration": 510,
    "start_time": "2024-08-30T12:21:13.344Z"
   },
   {
    "duration": 43,
    "start_time": "2024-08-30T12:21:13.856Z"
   },
   {
    "duration": 13,
    "start_time": "2024-08-30T12:21:13.901Z"
   },
   {
    "duration": 43,
    "start_time": "2024-08-30T12:21:14.172Z"
   },
   {
    "duration": 9,
    "start_time": "2024-08-30T12:21:15.691Z"
   },
   {
    "duration": 6,
    "start_time": "2024-08-30T12:21:16.228Z"
   },
   {
    "duration": 5,
    "start_time": "2024-08-30T12:21:17.832Z"
   },
   {
    "duration": 2,
    "start_time": "2024-08-30T12:21:18.538Z"
   },
   {
    "duration": 16,
    "start_time": "2024-08-30T12:21:19.171Z"
   },
   {
    "duration": 11,
    "start_time": "2024-08-30T12:21:19.517Z"
   },
   {
    "duration": 32,
    "start_time": "2024-08-30T12:21:21.150Z"
   },
   {
    "duration": 6,
    "start_time": "2024-08-30T12:21:22.423Z"
   },
   {
    "duration": 12,
    "start_time": "2024-08-30T12:21:26.948Z"
   },
   {
    "duration": 9,
    "start_time": "2024-08-30T12:21:27.851Z"
   },
   {
    "duration": 16,
    "start_time": "2024-08-30T12:21:29.254Z"
   },
   {
    "duration": 2,
    "start_time": "2024-08-30T12:21:29.691Z"
   },
   {
    "duration": 13,
    "start_time": "2024-08-30T12:21:30.109Z"
   },
   {
    "duration": 10,
    "start_time": "2024-08-30T12:21:30.299Z"
   },
   {
    "duration": 32,
    "start_time": "2024-08-30T12:21:31.164Z"
   },
   {
    "duration": 3,
    "start_time": "2024-08-30T12:21:31.787Z"
   },
   {
    "duration": 5,
    "start_time": "2024-08-30T12:21:32.365Z"
   },
   {
    "duration": 60,
    "start_time": "2024-08-30T12:21:33.522Z"
   },
   {
    "duration": 42,
    "start_time": "2024-08-30T12:21:33.879Z"
   },
   {
    "duration": 45,
    "start_time": "2024-08-30T12:21:34.738Z"
   },
   {
    "duration": 52,
    "start_time": "2024-08-30T12:21:34.907Z"
   },
   {
    "duration": 16,
    "start_time": "2024-08-30T12:21:35.778Z"
   },
   {
    "duration": 19,
    "start_time": "2024-08-30T12:21:55.824Z"
   },
   {
    "duration": 24,
    "start_time": "2024-08-30T12:22:01.546Z"
   },
   {
    "duration": 217,
    "start_time": "2024-08-30T12:22:15.328Z"
   },
   {
    "duration": 191,
    "start_time": "2024-08-30T12:22:16.213Z"
   },
   {
    "duration": 7,
    "start_time": "2024-08-30T12:22:24.028Z"
   },
   {
    "duration": 157,
    "start_time": "2024-08-30T12:22:24.909Z"
   },
   {
    "duration": 202,
    "start_time": "2024-08-30T12:22:28.557Z"
   },
   {
    "duration": 101,
    "start_time": "2024-08-30T12:22:29.322Z"
   },
   {
    "duration": 203,
    "start_time": "2024-08-30T12:22:32.166Z"
   },
   {
    "duration": 2,
    "start_time": "2024-08-30T12:22:32.845Z"
   },
   {
    "duration": 2,
    "start_time": "2024-08-30T12:22:33.433Z"
   },
   {
    "duration": 7,
    "start_time": "2024-08-30T12:22:34.573Z"
   },
   {
    "duration": 2596,
    "start_time": "2024-08-30T16:00:10.321Z"
   },
   {
    "duration": 255,
    "start_time": "2024-08-30T16:00:12.921Z"
   },
   {
    "duration": 53,
    "start_time": "2024-08-30T16:00:13.178Z"
   },
   {
    "duration": 12,
    "start_time": "2024-08-30T16:00:13.234Z"
   },
   {
    "duration": 45,
    "start_time": "2024-08-30T16:00:13.248Z"
   },
   {
    "duration": 9,
    "start_time": "2024-08-30T16:00:13.295Z"
   },
   {
    "duration": 5,
    "start_time": "2024-08-30T16:00:13.306Z"
   },
   {
    "duration": 5,
    "start_time": "2024-08-30T16:00:14.031Z"
   },
   {
    "duration": 3,
    "start_time": "2024-08-30T16:00:14.572Z"
   },
   {
    "duration": 16,
    "start_time": "2024-08-30T16:00:14.951Z"
   },
   {
    "duration": 14,
    "start_time": "2024-08-30T16:00:15.160Z"
   },
   {
    "duration": 32,
    "start_time": "2024-08-30T16:00:16.081Z"
   },
   {
    "duration": 6,
    "start_time": "2024-08-30T16:00:16.602Z"
   },
   {
    "duration": 12,
    "start_time": "2024-08-30T16:00:17.316Z"
   },
   {
    "duration": 8,
    "start_time": "2024-08-30T16:00:17.505Z"
   },
   {
    "duration": 16,
    "start_time": "2024-08-30T16:00:18.280Z"
   },
   {
    "duration": 2,
    "start_time": "2024-08-30T16:00:18.634Z"
   },
   {
    "duration": 14,
    "start_time": "2024-08-30T16:00:18.974Z"
   },
   {
    "duration": 10,
    "start_time": "2024-08-30T16:00:19.147Z"
   },
   {
    "duration": 33,
    "start_time": "2024-08-30T16:00:19.878Z"
   },
   {
    "duration": 3,
    "start_time": "2024-08-30T16:00:20.416Z"
   },
   {
    "duration": 5,
    "start_time": "2024-08-30T16:00:20.967Z"
   },
   {
    "duration": 60,
    "start_time": "2024-08-30T16:00:21.565Z"
   },
   {
    "duration": 47,
    "start_time": "2024-08-30T16:00:21.785Z"
   },
   {
    "duration": 47,
    "start_time": "2024-08-30T16:00:22.235Z"
   },
   {
    "duration": 52,
    "start_time": "2024-08-30T16:00:22.519Z"
   },
   {
    "duration": 15,
    "start_time": "2024-08-30T16:00:22.894Z"
   },
   {
    "duration": 17,
    "start_time": "2024-08-30T16:00:23.381Z"
   },
   {
    "duration": 25,
    "start_time": "2024-08-30T16:00:25.086Z"
   },
   {
    "duration": 225,
    "start_time": "2024-08-30T16:00:26.855Z"
   },
   {
    "duration": 215,
    "start_time": "2024-08-30T16:00:27.116Z"
   },
   {
    "duration": 7,
    "start_time": "2024-08-30T16:00:30.887Z"
   },
   {
    "duration": 121,
    "start_time": "2024-08-30T16:00:31.871Z"
   },
   {
    "duration": 214,
    "start_time": "2024-08-30T16:00:34.801Z"
   },
   {
    "duration": 167,
    "start_time": "2024-08-30T16:00:36.012Z"
   },
   {
    "duration": 207,
    "start_time": "2024-08-30T16:00:39.008Z"
   },
   {
    "duration": 3,
    "start_time": "2024-08-30T16:00:39.404Z"
   },
   {
    "duration": 2,
    "start_time": "2024-08-30T16:00:40.931Z"
   },
   {
    "duration": 7,
    "start_time": "2024-08-30T16:00:44.810Z"
   },
   {
    "duration": 6,
    "start_time": "2024-08-30T16:00:51.626Z"
   },
   {
    "duration": 223,
    "start_time": "2024-08-30T16:03:34.995Z"
   },
   {
    "duration": 445,
    "start_time": "2024-08-30T16:03:55.445Z"
   },
   {
    "duration": 17,
    "start_time": "2024-08-30T16:04:15.082Z"
   },
   {
    "duration": 7,
    "start_time": "2024-08-30T16:04:55.508Z"
   },
   {
    "duration": 8,
    "start_time": "2024-08-30T16:05:57.663Z"
   },
   {
    "duration": 18,
    "start_time": "2024-08-30T16:16:15.126Z"
   },
   {
    "duration": 6,
    "start_time": "2024-08-30T16:16:22.414Z"
   },
   {
    "duration": 6,
    "start_time": "2024-08-30T16:17:09.325Z"
   },
   {
    "duration": 7,
    "start_time": "2024-08-30T16:19:08.890Z"
   },
   {
    "duration": 6,
    "start_time": "2024-08-30T16:19:14.258Z"
   },
   {
    "duration": 42,
    "start_time": "2024-08-30T16:21:16.761Z"
   },
   {
    "duration": 42,
    "start_time": "2024-08-30T16:21:41.751Z"
   },
   {
    "duration": 43,
    "start_time": "2024-08-30T16:21:55.464Z"
   },
   {
    "duration": 52,
    "start_time": "2024-08-30T16:22:25.365Z"
   },
   {
    "duration": 166,
    "start_time": "2024-08-30T16:22:54.236Z"
   },
   {
    "duration": 42,
    "start_time": "2024-08-30T16:23:26.550Z"
   },
   {
    "duration": 43,
    "start_time": "2024-08-30T16:24:03.613Z"
   },
   {
    "duration": 7,
    "start_time": "2024-08-30T16:28:17.568Z"
   },
   {
    "duration": 7,
    "start_time": "2024-08-30T16:30:22.140Z"
   },
   {
    "duration": 6,
    "start_time": "2024-08-30T16:33:07.480Z"
   },
   {
    "duration": 18,
    "start_time": "2024-08-30T16:35:04.209Z"
   },
   {
    "duration": 20,
    "start_time": "2024-08-30T16:35:25.653Z"
   },
   {
    "duration": 11,
    "start_time": "2024-08-30T16:35:50.062Z"
   },
   {
    "duration": 12,
    "start_time": "2024-08-30T16:35:59.728Z"
   },
   {
    "duration": 19,
    "start_time": "2024-08-30T16:36:43.501Z"
   },
   {
    "duration": 49,
    "start_time": "2024-08-30T16:36:55.762Z"
   },
   {
    "duration": 19,
    "start_time": "2024-08-30T16:38:52.118Z"
   },
   {
    "duration": 20,
    "start_time": "2024-08-30T16:41:30.416Z"
   },
   {
    "duration": 9,
    "start_time": "2024-08-30T16:41:43.052Z"
   },
   {
    "duration": 8,
    "start_time": "2024-08-30T16:49:26.916Z"
   },
   {
    "duration": 2471,
    "start_time": "2024-08-31T09:52:48.227Z"
   },
   {
    "duration": 237,
    "start_time": "2024-08-31T09:52:50.701Z"
   },
   {
    "duration": 43,
    "start_time": "2024-08-31T09:52:50.941Z"
   },
   {
    "duration": 12,
    "start_time": "2024-08-31T09:52:50.987Z"
   },
   {
    "duration": 54,
    "start_time": "2024-08-31T09:52:51.000Z"
   },
   {
    "duration": 8,
    "start_time": "2024-08-31T09:52:51.055Z"
   },
   {
    "duration": 5,
    "start_time": "2024-08-31T09:52:51.065Z"
   },
   {
    "duration": 4,
    "start_time": "2024-08-31T09:52:51.073Z"
   },
   {
    "duration": 2,
    "start_time": "2024-08-31T09:52:51.080Z"
   },
   {
    "duration": 14,
    "start_time": "2024-08-31T09:52:51.087Z"
   },
   {
    "duration": 36,
    "start_time": "2024-08-31T09:52:51.103Z"
   },
   {
    "duration": 30,
    "start_time": "2024-08-31T09:52:51.141Z"
   },
   {
    "duration": 6,
    "start_time": "2024-08-31T09:52:51.173Z"
   },
   {
    "duration": 12,
    "start_time": "2024-08-31T09:52:51.181Z"
   },
   {
    "duration": 38,
    "start_time": "2024-08-31T09:52:51.194Z"
   },
   {
    "duration": 16,
    "start_time": "2024-08-31T09:52:51.234Z"
   },
   {
    "duration": 3,
    "start_time": "2024-08-31T09:52:51.252Z"
   },
   {
    "duration": 14,
    "start_time": "2024-08-31T09:52:51.257Z"
   },
   {
    "duration": 9,
    "start_time": "2024-08-31T09:52:51.272Z"
   },
   {
    "duration": 60,
    "start_time": "2024-08-31T09:52:51.283Z"
   },
   {
    "duration": 3,
    "start_time": "2024-08-31T09:52:51.345Z"
   },
   {
    "duration": 5,
    "start_time": "2024-08-31T09:52:51.350Z"
   },
   {
    "duration": 68,
    "start_time": "2024-08-31T09:52:51.357Z"
   },
   {
    "duration": 52,
    "start_time": "2024-08-31T09:52:51.427Z"
   },
   {
    "duration": 51,
    "start_time": "2024-08-31T09:52:51.481Z"
   },
   {
    "duration": 60,
    "start_time": "2024-08-31T09:52:51.534Z"
   },
   {
    "duration": 15,
    "start_time": "2024-08-31T09:52:51.595Z"
   },
   {
    "duration": 16,
    "start_time": "2024-08-31T09:52:51.614Z"
   },
   {
    "duration": 23,
    "start_time": "2024-08-31T09:52:51.632Z"
   },
   {
    "duration": 235,
    "start_time": "2024-08-31T09:52:51.657Z"
   },
   {
    "duration": 251,
    "start_time": "2024-08-31T09:52:51.895Z"
   },
   {
    "duration": 7,
    "start_time": "2024-08-31T09:52:52.148Z"
   },
   {
    "duration": 131,
    "start_time": "2024-08-31T09:52:52.157Z"
   },
   {
    "duration": 213,
    "start_time": "2024-08-31T09:52:52.290Z"
   },
   {
    "duration": 113,
    "start_time": "2024-08-31T09:52:52.505Z"
   },
   {
    "duration": 216,
    "start_time": "2024-08-31T09:52:52.620Z"
   },
   {
    "duration": 7,
    "start_time": "2024-08-31T09:52:52.839Z"
   },
   {
    "duration": 7,
    "start_time": "2024-08-31T09:52:52.847Z"
   },
   {
    "duration": 657,
    "start_time": "2024-08-31T09:52:52.856Z"
   },
   {
    "duration": 790,
    "start_time": "2024-08-31T09:59:22.170Z"
   },
   {
    "duration": 164,
    "start_time": "2024-08-31T09:59:22.963Z"
   },
   {
    "duration": 41,
    "start_time": "2024-08-31T09:59:23.129Z"
   },
   {
    "duration": 12,
    "start_time": "2024-08-31T09:59:23.173Z"
   },
   {
    "duration": 65,
    "start_time": "2024-08-31T09:59:23.186Z"
   },
   {
    "duration": 10,
    "start_time": "2024-08-31T09:59:23.253Z"
   },
   {
    "duration": 5,
    "start_time": "2024-08-31T09:59:23.265Z"
   },
   {
    "duration": 4,
    "start_time": "2024-08-31T09:59:23.272Z"
   },
   {
    "duration": 2,
    "start_time": "2024-08-31T09:59:23.278Z"
   },
   {
    "duration": 16,
    "start_time": "2024-08-31T09:59:23.284Z"
   },
   {
    "duration": 40,
    "start_time": "2024-08-31T09:59:23.301Z"
   },
   {
    "duration": 32,
    "start_time": "2024-08-31T09:59:23.342Z"
   },
   {
    "duration": 6,
    "start_time": "2024-08-31T09:59:23.376Z"
   },
   {
    "duration": 11,
    "start_time": "2024-08-31T09:59:23.384Z"
   },
   {
    "duration": 34,
    "start_time": "2024-08-31T09:59:23.397Z"
   },
   {
    "duration": 16,
    "start_time": "2024-08-31T09:59:23.433Z"
   },
   {
    "duration": 2,
    "start_time": "2024-08-31T09:59:23.451Z"
   },
   {
    "duration": 15,
    "start_time": "2024-08-31T09:59:23.454Z"
   },
   {
    "duration": 8,
    "start_time": "2024-08-31T09:59:23.471Z"
   },
   {
    "duration": 63,
    "start_time": "2024-08-31T09:59:23.481Z"
   },
   {
    "duration": 4,
    "start_time": "2024-08-31T09:59:23.546Z"
   },
   {
    "duration": 4,
    "start_time": "2024-08-31T09:59:23.552Z"
   },
   {
    "duration": 58,
    "start_time": "2024-08-31T09:59:23.558Z"
   },
   {
    "duration": 48,
    "start_time": "2024-08-31T09:59:23.618Z"
   },
   {
    "duration": 44,
    "start_time": "2024-08-31T09:59:23.668Z"
   },
   {
    "duration": 51,
    "start_time": "2024-08-31T09:59:23.714Z"
   },
   {
    "duration": 18,
    "start_time": "2024-08-31T09:59:23.766Z"
   },
   {
    "duration": 18,
    "start_time": "2024-08-31T09:59:23.788Z"
   },
   {
    "duration": 25,
    "start_time": "2024-08-31T09:59:23.807Z"
   },
   {
    "duration": 404,
    "start_time": "2024-08-31T09:59:23.834Z"
   },
   {
    "duration": 227,
    "start_time": "2024-08-31T09:59:24.241Z"
   },
   {
    "duration": 7,
    "start_time": "2024-08-31T09:59:24.470Z"
   },
   {
    "duration": 138,
    "start_time": "2024-08-31T09:59:24.479Z"
   },
   {
    "duration": 217,
    "start_time": "2024-08-31T09:59:24.618Z"
   },
   {
    "duration": 133,
    "start_time": "2024-08-31T09:59:24.837Z"
   },
   {
    "duration": 243,
    "start_time": "2024-08-31T09:59:24.972Z"
   },
   {
    "duration": 17,
    "start_time": "2024-08-31T09:59:25.217Z"
   },
   {
    "duration": 6,
    "start_time": "2024-08-31T09:59:25.236Z"
   },
   {
    "duration": 690,
    "start_time": "2024-08-31T09:59:25.243Z"
   },
   {
    "duration": 25,
    "start_time": "2024-08-31T09:59:57.014Z"
   },
   {
    "duration": 4,
    "start_time": "2024-08-31T10:00:05.804Z"
   },
   {
    "duration": 43,
    "start_time": "2024-08-31T10:00:11.139Z"
   },
   {
    "duration": 2480,
    "start_time": "2024-09-01T13:22:56.548Z"
   },
   {
    "duration": 244,
    "start_time": "2024-09-01T13:22:59.030Z"
   },
   {
    "duration": 51,
    "start_time": "2024-09-01T13:22:59.276Z"
   },
   {
    "duration": 13,
    "start_time": "2024-09-01T13:22:59.330Z"
   },
   {
    "duration": 51,
    "start_time": "2024-09-01T13:23:00.193Z"
   },
   {
    "duration": 9,
    "start_time": "2024-09-01T13:23:03.893Z"
   },
   {
    "duration": 7,
    "start_time": "2024-09-01T13:23:04.280Z"
   },
   {
    "duration": 5,
    "start_time": "2024-09-01T13:23:06.031Z"
   },
   {
    "duration": 2,
    "start_time": "2024-09-01T13:23:06.965Z"
   },
   {
    "duration": 17,
    "start_time": "2024-09-01T13:23:07.781Z"
   },
   {
    "duration": 14,
    "start_time": "2024-09-01T13:23:08.111Z"
   },
   {
    "duration": 30,
    "start_time": "2024-09-01T13:23:09.935Z"
   },
   {
    "duration": 6,
    "start_time": "2024-09-01T13:23:11.199Z"
   },
   {
    "duration": 12,
    "start_time": "2024-09-01T13:23:13.238Z"
   },
   {
    "duration": 8,
    "start_time": "2024-09-01T13:23:13.522Z"
   },
   {
    "duration": 17,
    "start_time": "2024-09-01T13:23:14.456Z"
   },
   {
    "duration": 3,
    "start_time": "2024-09-01T13:23:14.741Z"
   },
   {
    "duration": 15,
    "start_time": "2024-09-01T13:23:15.145Z"
   },
   {
    "duration": 9,
    "start_time": "2024-09-01T13:23:15.312Z"
   },
   {
    "duration": 41,
    "start_time": "2024-09-01T13:23:15.934Z"
   },
   {
    "duration": 3,
    "start_time": "2024-09-01T13:23:16.611Z"
   },
   {
    "duration": 6,
    "start_time": "2024-09-01T13:23:17.296Z"
   },
   {
    "duration": 63,
    "start_time": "2024-09-01T13:23:18.320Z"
   },
   {
    "duration": 46,
    "start_time": "2024-09-01T13:23:18.544Z"
   },
   {
    "duration": 47,
    "start_time": "2024-09-01T13:23:19.010Z"
   },
   {
    "duration": 54,
    "start_time": "2024-09-01T13:23:19.461Z"
   },
   {
    "duration": 15,
    "start_time": "2024-09-01T13:23:20.239Z"
   },
   {
    "duration": 19,
    "start_time": "2024-09-01T13:23:22.044Z"
   },
   {
    "duration": 24,
    "start_time": "2024-09-01T13:23:24.216Z"
   },
   {
    "duration": 242,
    "start_time": "2024-09-01T13:23:29.217Z"
   },
   {
    "duration": 194,
    "start_time": "2024-09-01T13:23:29.897Z"
   },
   {
    "duration": 8,
    "start_time": "2024-09-01T13:23:31.419Z"
   },
   {
    "duration": 113,
    "start_time": "2024-09-01T13:23:31.849Z"
   },
   {
    "duration": 204,
    "start_time": "2024-09-01T13:23:33.560Z"
   },
   {
    "duration": 162,
    "start_time": "2024-09-01T13:23:33.967Z"
   },
   {
    "duration": 203,
    "start_time": "2024-09-01T13:23:36.139Z"
   },
   {
    "duration": 7,
    "start_time": "2024-09-01T13:23:38.660Z"
   },
   {
    "duration": 7,
    "start_time": "2024-09-01T13:23:42.631Z"
   },
   {
    "duration": 3,
    "start_time": "2024-09-01T13:23:46.145Z"
   },
   {
    "duration": 636,
    "start_time": "2024-09-01T13:23:46.543Z"
   },
   {
    "duration": 9,
    "start_time": "2024-09-01T13:24:34.639Z"
   },
   {
    "duration": 2465,
    "start_time": "2024-09-01T18:42:06.231Z"
   },
   {
    "duration": 275,
    "start_time": "2024-09-01T18:42:08.698Z"
   },
   {
    "duration": 45,
    "start_time": "2024-09-01T18:42:08.974Z"
   },
   {
    "duration": 12,
    "start_time": "2024-09-01T18:42:09.022Z"
   },
   {
    "duration": 46,
    "start_time": "2024-09-01T18:42:09.035Z"
   },
   {
    "duration": 13,
    "start_time": "2024-09-01T18:42:09.083Z"
   },
   {
    "duration": 27,
    "start_time": "2024-09-01T18:42:09.098Z"
   },
   {
    "duration": 5,
    "start_time": "2024-09-01T18:42:09.127Z"
   },
   {
    "duration": 2,
    "start_time": "2024-09-01T18:42:09.134Z"
   },
   {
    "duration": 15,
    "start_time": "2024-09-01T18:42:09.140Z"
   },
   {
    "duration": 11,
    "start_time": "2024-09-01T18:42:09.156Z"
   },
   {
    "duration": 57,
    "start_time": "2024-09-01T18:42:09.168Z"
   },
   {
    "duration": 6,
    "start_time": "2024-09-01T18:42:09.227Z"
   },
   {
    "duration": 14,
    "start_time": "2024-09-01T18:42:09.235Z"
   },
   {
    "duration": 8,
    "start_time": "2024-09-01T18:42:09.250Z"
   },
   {
    "duration": 15,
    "start_time": "2024-09-01T18:42:09.260Z"
   },
   {
    "duration": 2,
    "start_time": "2024-09-01T18:42:09.276Z"
   },
   {
    "duration": 46,
    "start_time": "2024-09-01T18:42:09.280Z"
   },
   {
    "duration": 9,
    "start_time": "2024-09-01T18:42:09.328Z"
   },
   {
    "duration": 30,
    "start_time": "2024-09-01T18:42:09.338Z"
   },
   {
    "duration": 2,
    "start_time": "2024-09-01T18:42:09.370Z"
   },
   {
    "duration": 5,
    "start_time": "2024-09-01T18:42:09.374Z"
   },
   {
    "duration": 78,
    "start_time": "2024-09-01T18:42:09.380Z"
   },
   {
    "duration": 42,
    "start_time": "2024-09-01T18:42:09.460Z"
   },
   {
    "duration": 46,
    "start_time": "2024-09-01T18:42:09.503Z"
   },
   {
    "duration": 50,
    "start_time": "2024-09-01T18:42:09.551Z"
   },
   {
    "duration": 16,
    "start_time": "2024-09-01T18:42:09.603Z"
   },
   {
    "duration": 17,
    "start_time": "2024-09-01T18:42:09.623Z"
   },
   {
    "duration": 23,
    "start_time": "2024-09-01T18:42:09.641Z"
   },
   {
    "duration": 237,
    "start_time": "2024-09-01T18:42:09.665Z"
   },
   {
    "duration": 202,
    "start_time": "2024-09-01T18:42:09.904Z"
   },
   {
    "duration": 7,
    "start_time": "2024-09-01T18:42:10.108Z"
   },
   {
    "duration": 124,
    "start_time": "2024-09-01T18:42:10.116Z"
   },
   {
    "duration": 262,
    "start_time": "2024-09-01T18:42:10.242Z"
   },
   {
    "duration": 105,
    "start_time": "2024-09-01T18:42:10.506Z"
   },
   {
    "duration": 213,
    "start_time": "2024-09-01T18:42:10.613Z"
   },
   {
    "duration": 8,
    "start_time": "2024-09-01T18:42:10.827Z"
   },
   {
    "duration": 6,
    "start_time": "2024-09-01T18:42:10.837Z"
   },
   {
    "duration": 4,
    "start_time": "2024-09-01T18:42:10.845Z"
   },
   {
    "duration": 9,
    "start_time": "2024-09-01T18:42:10.850Z"
   }
  ],
  "kernelspec": {
   "display_name": "Python 3 (ipykernel)",
   "language": "python",
   "name": "python3"
  },
  "language_info": {
   "codemirror_mode": {
    "name": "ipython",
    "version": 3
   },
   "file_extension": ".py",
   "mimetype": "text/x-python",
   "name": "python",
   "nbconvert_exporter": "python",
   "pygments_lexer": "ipython3",
   "version": "3.9.19"
  },
  "toc": {
   "base_numbering": 1,
   "nav_menu": {},
   "number_sections": true,
   "sideBar": true,
   "skip_h1_title": false,
   "title_cell": "Table of Contents",
   "title_sidebar": "Contents",
   "toc_cell": false,
   "toc_position": {
    "height": "calc(100% - 180px)",
    "left": "10px",
    "top": "150px",
    "width": "165px"
   },
   "toc_section_display": true,
   "toc_window_display": false
  }
 },
 "nbformat": 4,
 "nbformat_minor": 2
}
